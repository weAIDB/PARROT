{
 "cells": [
  {
   "cell_type": "code",
   "execution_count": null,
   "metadata": {
    "vscode": {
     "languageId": "plaintext"
    }
   },
   "outputs": [],
   "source": [
    "Q1"
   ]
  },
  {
   "cell_type": "code",
   "execution_count": null,
   "metadata": {
    "vscode": {
     "languageId": "plaintext"
    }
   },
   "outputs": [],
   "source": [
    "select\n",
    "    l_returnflag,\n",
    "    l_linestatus,\n",
    "    sum(l_quantity) as sum_qty,\n",
    "    sum(l_extendedprice) as sum_base_price,\n",
    "    sum(l_extendedprice * (1 - l_discount)) as sum_disc_price,\n",
    "    sum(l_extendedprice * (1 - l_discount) * (1 + l_tax)) as sum_charge,\n",
    "    avg(l_quantity) as avg_qty,\n",
    "    avg(l_extendedprice) as avg_price,\n",
    "    avg(l_discount) as avg_disc,\n",
    "    count(*) as count_order\n",
    "from\n",
    "    lineitem\n",
    "where\n",
    "    l_shipdate <= DATEADD(DAY, -90, CAST('1998-12-01' AS DATE))\n",
    "group by\n",
    "    l_returnflag,\n",
    "    l_linestatus\n",
    "order by\n",
    "    l_returnflag,\n",
    "    l_linestatus;"
   ]
  },
  {
   "cell_type": "code",
   "execution_count": null,
   "metadata": {
    "vscode": {
     "languageId": "plaintext"
    }
   },
   "outputs": [],
   "source": [
    "运行结果：\n",
    "l_returnflag | l_linestatus |    sum_qty    |    sum_base_price    |    sum_disc_price    |    sum_charge    |   avg_qty   |   avg_price   |   avg_disc   |  count_order\n",
    "-------------+-------------+--------------+---------------------+---------------------+-----------------+-------------+--------------+-------------+--------------\n",
    "A            | F           | 37734107.00   | 565685540.73         | 5375825134.8700      | 55909065222.8276 | 25.522005   | 38273.129734 | 0.049985    | 1478493\n",
    "N            | F           | 991417.00     | 1487504710.38        | 1413082168.0541      | 1469649223.1943 | 25.516471   | 38284.467760 | 0.050093    | 38854\n",
    "N            | O           | 74476040.00   | 111701729697.74      | 106118230307.6056    | 110367043872.4970| 25.502226   | 38249.117988 | 0.049996    | 2920374\n",
    "R            | F           | 37719753.00   | 56668041380.90       | 53741292684.6040     | 55589619119.6319 | 25.505793   | 38250.854626 | 0.050009    | 1478870\n",
    "(4 行记录)"
   ]
  },
  {
   "cell_type": "code",
   "execution_count": null,
   "metadata": {
    "vscode": {
     "languageId": "plaintext"
    }
   },
   "outputs": [],
   "source": [
    "Q3"
   ]
  },
  {
   "cell_type": "code",
   "execution_count": null,
   "metadata": {
    "vscode": {
     "languageId": "plaintext"
    }
   },
   "outputs": [],
   "source": [
    "select\n",
    "    l_orderkey,\n",
    "    sum(l_extendedprice * (1 - l_discount)) as revenue,\n",
    "    o_orderdate,\n",
    "    o_shippriority\n",
    "from\n",
    "    customer,\n",
    "    orders,\n",
    "    lineitem\n",
    "where\n",
    "    c_mktsegment = 'BUILDING'\n",
    "    and c_custkey = o_custkey\n",
    "    and l_orderkey = o_orderkey\n",
    "    and o_orderdate < CAST('1995-03-15' AS DATE)\n",
    "    and l_shipdate > CAST('1995-03-15' AS DATE)\n",
    "group by\n",
    "    l_orderkey,\n",
    "    o_orderdate,\n",
    "    o_shippriority\n",
    "order by\n",
    "    revenue desc,\n",
    "    o_orderdate;"
   ]
  },
  {
   "cell_type": "code",
   "execution_count": null,
   "metadata": {
    "vscode": {
     "languageId": "plaintext"
    }
   },
   "outputs": [],
   "source": [
    "运行结果：l_orderkey |     revenue     |   o_orderdate   | o_shippriority\n",
    "----------+----------------+----------------+---------------\n",
    "2456423   | 406181.0111     | 1995-03-05     | 0\n",
    "3459608   | 406838.6989     | 1995-03-04     | 0\n",
    "492164    | 390324.0610     | 1995-02-19     | 0\n",
    "1168320   | 364537.9359     | 1995-03-09     | 0\n",
    "2436712   | 378673.0558     | 1995-02-26     | 0\n",
    "4878020   | 378376.7952     | 1995-03-12     | 0\n",
    "5521732   | 375153.9215     | 1995-03-13     | 0\n",
    "2628192   | 373133.3094     | 1995-02-22     | 0\n",
    "936600    | 371407.4595     | 1995-03-05     | 0\n",
    "2300070   | 367371.1452     | 1995-03-13     | 0\n",
    "(10 行记录)\n"
   ]
  },
  {
   "cell_type": "code",
   "execution_count": null,
   "metadata": {
    "vscode": {
     "languageId": "plaintext"
    }
   },
   "outputs": [],
   "source": [
    "Q5"
   ]
  },
  {
   "cell_type": "code",
   "execution_count": null,
   "metadata": {
    "vscode": {
     "languageId": "plaintext"
    }
   },
   "outputs": [],
   "source": [
    "select\n",
    "    n_name,\n",
    "    sum(l_extendedprice * (1 - l_discount)) as revenue\n",
    "from\n",
    "    customer,\n",
    "    orders,\n",
    "    lineitem,\n",
    "    supplier,\n",
    "    nation,\n",
    "    region\n",
    "where\n",
    "    c_custkey = o_custkey\n",
    "    and l_orderkey = o_orderkey\n",
    "    and l_suppkey = s_suppkey\n",
    "    and c_nationkey = s_nationkey\n",
    "    and s_nationkey = n_nationkey\n",
    "    and n_regionkey = r_regionkey\n",
    "    and r_name = 'ASIA'\n",
    "    and o_orderdate >= CAST('1994-01-01' AS DATE)\n",
    "    and o_orderdate < DATEADD(YEAR, 1, CAST('1994-01-01' AS DATE))\n",
    "group by\n",
    "    n_name\n",
    "order by\n",
    "    revenue desc;"
   ]
  },
  {
   "cell_type": "code",
   "execution_count": null,
   "metadata": {
    "vscode": {
     "languageId": "plaintext"
    }
   },
   "outputs": [],
   "source": [
    "运行结果：n_name      |       revenue\n",
    "-----------+-------------------\n",
    "INDONESIA  | 55502041.1697\n",
    "VIETNAM    | 55295086.9967\n",
    "CHINA      | 53724494.2566\n",
    "INDIA      | 52035512.0002\n",
    "JAPAN      | 45410175.6954\n",
    "(5 行记录)"
   ]
  },
  {
   "cell_type": "code",
   "execution_count": null,
   "metadata": {
    "vscode": {
     "languageId": "plaintext"
    }
   },
   "outputs": [],
   "source": [
    "Q6"
   ]
  },
  {
   "cell_type": "code",
   "execution_count": null,
   "metadata": {
    "vscode": {
     "languageId": "plaintext"
    }
   },
   "outputs": [],
   "source": [
    "\n",
    "select\n",
    "    sum(l_extendedprice * l_discount) as revenue\n",
    "from\n",
    "    lineitem\n",
    "where\n",
    "    l_shipdate >= CAST('1994-01-01' AS DATE)\n",
    "    and l_shipdate < DATEADD(YEAR, 1, CAST('1994-01-01' AS DATE))\n",
    "    and l_discount between 0.06 - 0.01 and 0.06 + 0.01\n",
    "    and l_quantity < 24;"
   ]
  },
  {
   "cell_type": "code",
   "execution_count": null,
   "metadata": {
    "vscode": {
     "languageId": "plaintext"
    }
   },
   "outputs": [],
   "source": [
    "运行结果：revenue\n",
    "-------------------\n",
    "123141078.2283\n",
    "(1 行记录)"
   ]
  },
  {
   "cell_type": "code",
   "execution_count": null,
   "metadata": {
    "vscode": {
     "languageId": "plaintext"
    }
   },
   "outputs": [],
   "source": [
    "Q7"
   ]
  },
  {
   "cell_type": "code",
   "execution_count": null,
   "metadata": {
    "vscode": {
     "languageId": "plaintext"
    }
   },
   "outputs": [],
   "source": [
    "select\n",
    "    supp_nation,\n",
    "    cust_nation,\n",
    "    l_year,\n",
    "    sum(volume) as revenue\n",
    "from\n",
    "    (\n",
    "        select\n",
    "            n1.n_name as supp_nation,\n",
    "            n2.n_name as cust_nation,\n",
    "            YEAR(l_shipdate) as l_year,\n",
    "            l_extendedprice * (1 - l_discount) as volume\n",
    "        from\n",
    "            supplier,\n",
    "            lineitem,\n",
    "            orders,\n",
    "            customer,\n",
    "            nation n1,\n",
    "            nation n2\n",
    "        where\n",
    "            s_suppkey = l_suppkey\n",
    "            and o_orderkey = l_orderkey\n",
    "            and c_custkey = o_custkey\n",
    "            and s_nationkey = n1.n_nationkey\n",
    "            and c_nationkey = n2.n_nationkey\n",
    "            and (\n",
    "                (n1.n_name = 'FRANCE' and n2.n_name = 'GERMANY')\n",
    "                or (n1.n_name = 'GERMANY' and n2.n_name = 'FRANCE')\n",
    "            )\n",
    "            and l_shipdate between CAST('1995-01-01' AS DATE) and CAST('1996-12-31' AS DATE)\n",
    "    ) as shipping\n",
    "group by\n",
    "    supp_nation,\n",
    "    cust_nation,\n",
    "    l_year\n",
    "order by\n",
    "    supp_nation,\n",
    "    cust_nation,\n",
    "    l_year;\n"
   ]
  },
  {
   "cell_type": "code",
   "execution_count": null,
   "metadata": {
    "vscode": {
     "languageId": "plaintext"
    }
   },
   "outputs": [],
   "source": [
    "运行结果：supp_nation | cust_nation | l_year |    revenue\n",
    "-----------+------------+--------+---------------\n",
    "FRANCE     | GERMANY    | 1995   | 54639732.7336\n",
    "FRANCE     | GERMANY    | 1996   | 54633083.3076\n",
    "GERMANY    | FRANCE     | 1995   | 52531746.6697\n",
    "GERMANY    | FRANCE     | 1996   | 52520549.0224\n",
    "(4 行记录)"
   ]
  },
  {
   "cell_type": "code",
   "execution_count": null,
   "metadata": {
    "vscode": {
     "languageId": "plaintext"
    }
   },
   "outputs": [],
   "source": [
    "Q9"
   ]
  },
  {
   "cell_type": "code",
   "execution_count": null,
   "metadata": {
    "vscode": {
     "languageId": "plaintext"
    }
   },
   "outputs": [],
   "source": [
    "\n",
    "select\n",
    "    nation,\n",
    "    o_year,\n",
    "    sum(amount) as sum_profit\n",
    "from\n",
    "    (\n",
    "        select\n",
    "            n_name as nation,\n",
    "            YEAR(o_orderdate) as o_year,\n",
    "            l_extendedprice * (1 - l_discount) - ps_supplycost * l_quantity as amount\n",
    "        from\n",
    "            part,\n",
    "            supplier,\n",
    "            lineitem,\n",
    "            partsupp,\n",
    "            orders,\n",
    "            nation\n",
    "        where\n",
    "            s_suppkey = l_suppkey\n",
    "            and ps_suppkey = l_suppkey\n",
    "            and ps_partkey = l_partkey\n",
    "            and p_partkey = l_partkey\n",
    "            and o_orderkey = l_orderkey\n",
    "            and s_nationkey = n_nationkey\n",
    "            and p_name like '%green%'\n",
    "    ) as profit\n",
    "group by\n",
    "    nation,\n",
    "    o_year\n",
    "order by\n",
    "    nation,\n",
    "    o_year desc;"
   ]
  },
  {
   "cell_type": "code",
   "execution_count": null,
   "metadata": {
    "vscode": {
     "languageId": "plaintext"
    }
   },
   "outputs": [],
   "source": [
    "运行结果：nation       | o_year |      sum_profit\n",
    "------------+-------+-------------------\n",
    "ALGERIA      | 1998  | 27136900.1803\n",
    "ALGERIA      | 1997  | 48611833.4962\n",
    "ALGERIA      | 1996  | 48285482.6782\n",
    "ALGERIA      | 1995  | 44402273.5999\n",
    "ALGERIA      | 1994  | 48694008.0668\n",
    "ALGERIA      | 1993  | 46044207.7838\n",
    "ALGERIA      | 1992  | 45636849.4881\n",
    "ARGENTINA    | 1998  | 28341663.7848\n",
    "ARGENTINA    | 1997  | 47143964.1176\n",
    "ARGENTINA    | 1996  | 45255278.6021\n",
    "(10 行记录)"
   ]
  },
  {
   "cell_type": "code",
   "execution_count": null,
   "metadata": {
    "vscode": {
     "languageId": "plaintext"
    }
   },
   "outputs": [],
   "source": [
    "Q10"
   ]
  },
  {
   "cell_type": "code",
   "execution_count": null,
   "metadata": {
    "vscode": {
     "languageId": "plaintext"
    }
   },
   "outputs": [],
   "source": [
    "select\n",
    "    c_custkey,\n",
    "    c_name,\n",
    "    sum(l_extendedprice * (1 - l_discount)) as revenue,\n",
    "    c_acctbal,\n",
    "    n_name,\n",
    "    c_address,\n",
    "    c_phone,\n",
    "    c_comment\n",
    "from\n",
    "    customer,\n",
    "    orders,\n",
    "    lineitem,\n",
    "    nation\n",
    "where\n",
    "    c_custkey = o_custkey\n",
    "    and l_orderkey = o_orderkey\n",
    "    and o_orderdate >= CAST('1993-10-01' AS DATE)\n",
    "    and o_orderdate < DATEADD(MONTH, 3, CAST('1993-10-01' AS DATE))\n",
    "    and l_returnflag = 'R'\n",
    "    and c_nationkey = n_nationkey\n",
    "group by\n",
    "    c_custkey,\n",
    "    c_name,\n",
    "    c_acctbal,\n",
    "    c_phone,\n",
    "    n_name,\n",
    "    c_address,\n",
    "    c_comment\n",
    "order by\n",
    "    revenue desc;"
   ]
  },
  {
   "cell_type": "code",
   "execution_count": null,
   "metadata": {
    "vscode": {
     "languageId": "plaintext"
    }
   },
   "outputs": [],
   "source": [
    "运行结果： c_custkey |       c_name       |   revenue   | c_acctbal |          n_name           |                c_address                 |     c_phone     |                                                  c_comment                                 \n",
    "-----------+--------------------+-------------+-----------+---------------------------+------------------------------------------+-----------------+-------------------------------------------------------------------------------------------------------------\n",
    "     57040 | Customer#000057040 | 734235.2455 |    632.87 | JAPAN                     | Eioyzjf4pp                               | 22-895-641-3466 | sits. slyly regular requests sleep alongside of the regular inst\n",
    "    143347 | Customer#000143347 | 721002.6948 |   2557.47 | EGYPT                     | 1aReFYv,Kw4                              | 14-742-935-3718 | ggle carefully enticing requests. final deposits use bold, bold pinto beans. ironic, idle re\n",
    "     60838 | Customer#000060838 | 679127.3077 |   2454.77 | BRAZIL                    | 64EaJ5vMAHWJlBOxJklpNc2RJiWE             | 12-913-494-9813 |  need to boost against the slyly regular account\n",
    "    101998 | Customer#000101998 | 637029.5667 |   3790.89 | UNITED KINGDOM            | 01c9CILnNtfOQYmZj                        | 33-593-865-6378 | ress foxes wake slyly after the bold excuses. ironic platelets are furiously carefully bold theodolites\n",
    "    125341 | Customer#000125341 | 633508.0860 |   4983.51 | GERMANY                   | S29ODD6bceU8QSuuEJznkNaK                 | 17-582-695-5962 | arefully even depths. blithely even excuses sleep furiously. foxes use except the dependencies. ca\n",
    "     25501 | Customer#000025501 | 620269.7849 |   7725.04 | ETHIOPIA                  |   W556MXuoiaYCCZamJI,Rn0B4ACUGdkQ8DZ     | 15-874-808-6793 | he pending instructions wake carefully at the pinto beans. regular, final instructions along the slyly fina\n",
    "    115831 | Customer#000115831 | 596423.8672 |   5098.10 | FRANCE                    | rFeBbEEyk dl ne7zV5fDrmiq1oK09wV7pxqCgIc | 16-715-386-3788 | l somas sleep. furiously final deposits wake blithely regular pinto b\n",
    "     84223 | Customer#000084223 | 594998.0239 |    528.65 | UNITED KINGDOM            | nAVZCs6BaWap rrM27N 2qBnzc5WBauxbA       | 33-442-824-8191 |  slyly final deposits haggle regular, pending dependencies. pending escapades wake\n",
    "     54289 | Customer#000054289 | 585603.3918 |   5583.02 | IRAN                      | vXCxoCsU0Bad5JQI ,oobkZ                  | 20-834-292-4707 | ely special foxes are quickly finally ironic p\n",
    "     39922 | Customer#000039922 | 584878.1134 |   7321.11 | GERMANY                   | Zgy4s50l2GKN4pLDPBU8m342gIw6R            | 17-147-757-8036 | y final requests. furiously final foxes cajole blithely special platelets. f\n",
    "(10 行记录)"
   ]
  },
  {
   "cell_type": "code",
   "execution_count": null,
   "metadata": {
    "vscode": {
     "languageId": "plaintext"
    }
   },
   "outputs": [],
   "source": [
    "Q11"
   ]
  },
  {
   "cell_type": "code",
   "execution_count": null,
   "metadata": {
    "vscode": {
     "languageId": "plaintext"
    }
   },
   "outputs": [],
   "source": [
    "select\n",
    "    ps_partkey,\n",
    "    sum(ps_supplycost * ps_availqty) as value\n",
    "from\n",
    "    partsupp,\n",
    "    supplier,\n",
    "    nation\n",
    "where\n",
    "    ps_suppkey = s_suppkey\n",
    "    and s_nationkey = n_nationkey\n",
    "    and n_name = 'GERMANY'\n",
    "group by\n",
    "    ps_partkey having\n",
    "        sum(ps_supplycost * ps_availqty) > (\n",
    "            select\n",
    "                sum(ps_supplycost * ps_availqty) * 0.0001\n",
    "            from\n",
    "                partsupp,\n",
    "                supplier,\n",
    "                nation\n",
    "            where\n",
    "                ps_suppkey = s_suppkey\n",
    "                and s_nationkey = n_nationkey\n",
    "                and n_name = 'GERMANY'\n",
    "        )\n",
    "order by\n",
    "    value desc;"
   ]
  },
  {
   "cell_type": "code",
   "execution_count": null,
   "metadata": {
    "vscode": {
     "languageId": "plaintext"
    }
   },
   "outputs": [],
   "source": [
    "运行结果：ps_partkey |       value\n",
    "-----------+---------------\n",
    "129760     | 17538456.86\n",
    "166726     | 18503353.92\n",
    "191287     | 16474801.97\n",
    "161758     | 16101755.54\n",
    "34452      | 15963844.72\n",
    "139035     | 15907078.34\n",
    "9403       | 15451755.62\n",
    "154358     | 15212937.88\n",
    "38823      | 15064802.66\n",
    "85606      | 15053957.15\n",
    "(10 行记录)"
   ]
  },
  {
   "cell_type": "code",
   "execution_count": null,
   "metadata": {
    "vscode": {
     "languageId": "plaintext"
    }
   },
   "outputs": [],
   "source": [
    "Q12"
   ]
  },
  {
   "cell_type": "code",
   "execution_count": null,
   "metadata": {
    "vscode": {
     "languageId": "plaintext"
    }
   },
   "outputs": [],
   "source": [
    "select\n",
    "    l_shipmode,\n",
    "    sum(case\n",
    "        when o_orderpriority = '1-URGENT'\n",
    "            or o_orderpriority = '2-HIGH'\n",
    "            then 1\n",
    "        else 0\n",
    "    end) as high_line_count,\n",
    "    sum(case\n",
    "        when o_orderpriority <> '1-URGENT'\n",
    "            and o_orderpriority <> '2-HIGH'\n",
    "            then 1\n",
    "        else 0\n",
    "    end) as low_line_count\n",
    "from\n",
    "    orders,\n",
    "    lineitem\n",
    "where\n",
    "    o_orderkey = l_orderkey\n",
    "    and l_shipmode in ('MAIL', 'SHIP')\n",
    "    and l_commitdate < l_receiptdate\n",
    "    and l_shipdate < l_commitdate\n",
    "    and l_receiptdate >= CAST('1994-01-01' AS DATE)\n",
    "    and l_receiptdate < DATEADD(YEAR, 1, CAST('1994-01-01' AS DATE))\n",
    "group by\n",
    "    l_shipmode\n",
    "order by\n",
    "    l_shipmode;"
   ]
  },
  {
   "cell_type": "code",
   "execution_count": null,
   "metadata": {
    "vscode": {
     "languageId": "plaintext"
    }
   },
   "outputs": [],
   "source": [
    "运行结果：l_shipmode | high_line_count | low_line_count\n",
    "-----------+----------------+---------------\n",
    "MAIL       | 6202           | 9324\n",
    "SHIP       | 6200           | 9262\n",
    "(2 行记录)"
   ]
  },
  {
   "cell_type": "code",
   "execution_count": null,
   "metadata": {
    "vscode": {
     "languageId": "plaintext"
    }
   },
   "outputs": [],
   "source": [
    "Q14"
   ]
  },
  {
   "cell_type": "code",
   "execution_count": null,
   "metadata": {
    "vscode": {
     "languageId": "plaintext"
    }
   },
   "outputs": [],
   "source": [
    "SELECT\n",
    "    100.00 * SUM(CASE\n",
    "        WHEN p_type LIKE 'PROMO%' THEN l_extendedprice * (1 - l_discount)\n",
    "        ELSE 0\n",
    "    END) / SUM(l_extendedprice * (1 - l_discount)) AS promo_revenue\n",
    "FROM\n",
    "    lineitem\n",
    "JOIN\n",
    "    part ON l_partkey = p_partkey\n",
    "WHERE\n",
    "    l_shipdate >= '1995-09-01'\n",
    "    AND l_shipdate < DATEADD(MONTH, 1, '1995-09-01');\n"
   ]
  },
  {
   "cell_type": "code",
   "execution_count": null,
   "metadata": {
    "vscode": {
     "languageId": "plaintext"
    }
   },
   "outputs": [],
   "source": [
    "运行结果：promo_revenue\n",
    "-------------------\n",
    "16.360778\n",
    "(1 行记录)"
   ]
  },
  {
   "cell_type": "code",
   "execution_count": null,
   "metadata": {
    "vscode": {
     "languageId": "plaintext"
    }
   },
   "outputs": [],
   "source": [
    "Q19"
   ]
  },
  {
   "cell_type": "code",
   "execution_count": null,
   "metadata": {
    "vscode": {
     "languageId": "plaintext"
    }
   },
   "outputs": [],
   "source": [
    "SELECT\n",
    "    SUM(l_extendedprice * (1 - l_discount)) AS revenue\n",
    "FROM\n",
    "    lineitem\n",
    "JOIN\n",
    "    part ON p_partkey = l_partkey\n",
    "WHERE\n",
    "    (\n",
    "        p_brand = 'Brand#12'\n",
    "        AND p_container IN ('SM CASE', 'SM BOX', 'SM PACK', 'SM PKG')\n",
    "        AND l_quantity BETWEEN 1 AND 11\n",
    "        AND p_size BETWEEN 1 AND 5\n",
    "        AND l_shipmode IN ('AIR', 'AIR REG')\n",
    "        AND l_shipinstruct = 'DELIVER IN PERSON'\n",
    "    )\n",
    "    OR\n",
    "    (\n",
    "        p_brand = 'Brand#23'\n",
    "        AND p_container IN ('MED BAG', 'MED BOX', 'MED PKG', 'MED PACK')\n",
    "        AND l_quantity BETWEEN 10 AND 20\n",
    "        AND p_size BETWEEN 1 AND 10\n",
    "        AND l_shipmode IN ('AIR', 'AIR REG')\n",
    "        AND l_shipinstruct = 'DELIVER IN PERSON'\n",
    "    )\n",
    "    OR\n",
    "    (\n",
    "        p_brand = 'Brand#34'\n",
    "        AND p_container IN ('LG CASE', 'LG BOX', 'LG PACK', 'LG PKG')\n",
    "        AND l_quantity BETWEEN 20 AND 30\n",
    "        AND p_size BETWEEN 1 AND 15\n",
    "        AND l_shipmode IN ('AIR', 'AIR REG')\n",
    "        AND l_shipinstruct = 'DELIVER IN PERSON'\n",
    "    );\n"
   ]
  },
  {
   "cell_type": "code",
   "execution_count": null,
   "metadata": {
    "vscode": {
     "languageId": "plaintext"
    }
   },
   "outputs": [],
   "source": [
    "运行结果：revenue\n",
    "-------------------\n",
    "3083643.0578\n",
    "(1 行记录)"
   ]
  },
  {
   "cell_type": "code",
   "execution_count": null,
   "metadata": {
    "vscode": {
     "languageId": "plaintext"
    }
   },
   "outputs": [],
   "source": [
    "Q22"
   ]
  },
  {
   "cell_type": "code",
   "execution_count": null,
   "metadata": {
    "vscode": {
     "languageId": "plaintext"
    }
   },
   "outputs": [],
   "source": [
    "SELECT\n",
    "    cntrycode,\n",
    "    COUNT(*) AS numcust,\n",
    "    SUM(c_acctbal) AS totacctbal\n",
    "FROM\n",
    "    (\n",
    "        SELECT\n",
    "            SUBSTRING(c_phone, 1, 2) AS cntrycode,\n",
    "            c_acctbal\n",
    "        FROM\n",
    "            customer\n",
    "        WHERE\n",
    "            SUBSTRING(c_phone, 1, 2) IN ('13', '31', '23', '29', '30', '18', '17')\n",
    "            AND c_acctbal > (\n",
    "                SELECT\n",
    "                    AVG(c_acctbal)\n",
    "                FROM\n",
    "                    customer\n",
    "                WHERE\n",
    "                    c_acctbal > 0.00\n",
    "                    AND SUBSTRING(c_phone, 1, 2) IN ('13', '31', '23', '29', '30', '18', '17')\n",
    "            )\n",
    "            AND NOT EXISTS (\n",
    "                SELECT\n",
    "                    1\n",
    "                FROM\n",
    "                    orders\n",
    "                WHERE\n",
    "                    o_custkey = c_custkey\n",
    "            )\n",
    "    ) AS custsale\n",
    "GROUP BY\n",
    "    cntrycode\n",
    "ORDER BY\n",
    "    cntrycode;\n"
   ]
  },
  {
   "cell_type": "code",
   "execution_count": null,
   "metadata": {
    "vscode": {
     "languageId": "plaintext"
    }
   },
   "outputs": [],
   "source": [
    "运行结果：entrycode | numcust |  totacctbal\n",
    "---------+---------+------------\n",
    "    13   |   888   | 6737713.99\n",
    "    17   |   861   | 6400573.72\n",
    "    18   |   964   | 7236687.40\n",
    "    23   |   892   | 6701457.95\n",
    "    29   |   948   | 7158866.63\n",
    "    30   |   909   | 6808436.13\n",
    "    31   |   922   | 6806670.18\n",
    "(7 行记录)"
   ]
  }
 ],
 "metadata": {
  "language_info": {
   "name": "python"
  }
 },
 "nbformat": 4,
 "nbformat_minor": 2
}
