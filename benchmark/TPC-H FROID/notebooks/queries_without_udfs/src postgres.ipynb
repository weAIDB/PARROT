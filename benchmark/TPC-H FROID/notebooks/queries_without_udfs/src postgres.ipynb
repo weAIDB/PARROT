{
 "cells": [
  {
   "cell_type": "code",
   "execution_count": null,
   "metadata": {
    "vscode": {
     "languageId": "plaintext"
    }
   },
   "outputs": [],
   "source": [
    "Q1"
   ]
  },
  {
   "cell_type": "code",
   "execution_count": null,
   "metadata": {
    "vscode": {
     "languageId": "plaintext"
    }
   },
   "outputs": [],
   "source": [
    "\n",
    "select\n",
    "\tl_returnflag,\n",
    "\tl_linestatus,\n",
    "\tsum(l_quantity) as sum_qty,\n",
    "\tsum(l_extendedprice) as sum_base_price,\n",
    "\tsum(l_extendedprice * (1 - l_discount)) as sum_disc_price,\n",
    "\tsum(l_extendedprice * (1 - l_discount) * (1 + l_tax)) as sum_charge,\n",
    "\tavg(l_quantity) as avg_qty,\n",
    "\tavg(l_extendedprice) as avg_price,\n",
    "\tavg(l_discount) as avg_disc,\n",
    "\tcount(*) as count_order\n",
    "from\n",
    "\tlineitem\n",
    "where\n",
    "\tl_shipdate <= date '1998-12-01' - interval '90' day\n",
    "group by\n",
    "\tl_returnflag,\n",
    "\tl_linestatus\n",
    "order by\n",
    "\tl_returnflag,\n",
    "\tl_linestatus;\n",
    "--limit -1;\n"
   ]
  },
  {
   "cell_type": "code",
   "execution_count": null,
   "metadata": {
    "vscode": {
     "languageId": "plaintext"
    }
   },
   "outputs": [],
   "source": [
    "运行结果：\n",
    " l_returnflag | l_linestatus |   sum_qty   | sum_base_price  |  sum_disc_price   |     sum_charge      |       avg_qty       |     avg_price      |        avg_disc        | count_order\n",
    "--------------+--------------+-------------+-----------------+-------------------+---------------------+---------------------+--------------------+------------------------+-------------\n",
    " A            | F            | 37734107.00 |  56586554400.73 |  53758257134.8700 |  55909065222.827692 | 25.5220058532573370 | 38273.129734621672 | 0.04998529583839761162 |     1478493\n",
    " N            | F            |   991417.00 |   1487504710.38 |   1413082168.0541 |   1469649223.194375 | 25.5164719205229835 | 38284.467760848304 | 0.05009342667421629691 |       38854\n",
    " N            | O            | 74476040.00 | 111701729697.74 | 106118230307.6056 | 110367043872.497010 | 25.5022267695849915 | 38249.117988908270 | 0.04999658605370408037 |     2920374\n",
    " R            | F            | 37719753.00 |  56568041380.90 |  53741292684.6040 |  55889619119.831932 | 25.5057936126907707 | 38250.854626099657 | 0.05000940583012705647 |     1478870\n",
    "(4 行记录)"
   ]
  },
  {
   "cell_type": "code",
   "execution_count": null,
   "metadata": {
    "vscode": {
     "languageId": "plaintext"
    }
   },
   "outputs": [],
   "source": [
    "Q3"
   ]
  },
  {
   "cell_type": "code",
   "execution_count": null,
   "metadata": {
    "vscode": {
     "languageId": "plaintext"
    }
   },
   "outputs": [],
   "source": [
    "\n",
    "select\n",
    "\tl_orderkey,\n",
    "\tsum(l_extendedprice * (1 - l_discount)) as revenue,\n",
    "\to_orderdate,\n",
    "\to_shippriority\n",
    "from\n",
    "\tcustomer,\n",
    "\torders,\n",
    "\tlineitem\n",
    "where\n",
    "\tc_mktsegment = 'BUILDING'\n",
    "\tand c_custkey = o_custkey\n",
    "\tand l_orderkey = o_orderkey\n",
    "\tand o_orderdate < date '1995-03-15'\n",
    "\tand l_shipdate > date '1995-03-15'\n",
    "group by\n",
    "\tl_orderkey,\n",
    "\to_orderdate,\n",
    "\to_shippriority\n",
    "order by\n",
    "\trevenue desc,\n",
    "\to_orderdate\n",
    "limit 10;\n"
   ]
  },
  {
   "cell_type": "code",
   "execution_count": null,
   "metadata": {
    "vscode": {
     "languageId": "plaintext"
    }
   },
   "outputs": [],
   "source": [
    "运行结果：\n",
    " l_orderkey |   revenue   | o_orderdate | o_shippriority\n",
    "------------+-------------+-------------+----------------\n",
    "    2456423 | 406181.0111 | 1995-03-05  |              0\n",
    "    3459808 | 405838.6989 | 1995-03-04  |              0\n",
    "     492164 | 390324.0610 | 1995-02-19  |              0\n",
    "    1188320 | 384537.9359 | 1995-03-09  |              0\n",
    "    2435712 | 378673.0558 | 1995-02-26  |              0\n",
    "    4878020 | 378376.7952 | 1995-03-12  |              0\n",
    "    5521732 | 375153.9215 | 1995-03-13  |              0\n",
    "    2628192 | 373133.3094 | 1995-02-22  |              0\n",
    "     993600 | 371407.4595 | 1995-03-05  |              0\n",
    "    2300070 | 367371.1452 | 1995-03-13  |              0\n",
    "(10 行记录)"
   ]
  },
  {
   "cell_type": "code",
   "execution_count": null,
   "metadata": {
    "vscode": {
     "languageId": "plaintext"
    }
   },
   "outputs": [],
   "source": [
    "Q5"
   ]
  },
  {
   "cell_type": "code",
   "execution_count": null,
   "metadata": {
    "vscode": {
     "languageId": "plaintext"
    }
   },
   "outputs": [],
   "source": [
    "\n",
    "\n",
    "select\n",
    "\tn_name,\n",
    "\tsum(l_extendedprice * (1 - l_discount)) as revenue\n",
    "from\n",
    "\tcustomer,\n",
    "\torders,\n",
    "\tlineitem,\n",
    "\tsupplier,\n",
    "\tnation,\n",
    "\tregion\n",
    "where\n",
    "\tc_custkey = o_custkey\n",
    "\tand l_orderkey = o_orderkey\n",
    "\tand l_suppkey = s_suppkey\n",
    "\tand c_nationkey = s_nationkey\n",
    "\tand s_nationkey = n_nationkey\n",
    "\tand n_regionkey = r_regionkey\n",
    "\tand r_name = 'ASIA'\n",
    "\tand o_orderdate >= date '1994-01-01'\n",
    "\tand o_orderdate < date '1994-01-01' + interval '1' year\n",
    "group by\n",
    "\tn_name\n",
    "order by\n",
    "\trevenue desc;\n",
    "--limit -1;\n"
   ]
  },
  {
   "cell_type": "code",
   "execution_count": null,
   "metadata": {
    "vscode": {
     "languageId": "plaintext"
    }
   },
   "outputs": [],
   "source": [
    "运行结果：          n_name           |    revenue\n",
    "---------------------------+---------------\n",
    " INDONESIA                 | 55502041.1697\n",
    " VIETNAM                   | 55295086.9967\n",
    " CHINA                     | 53724494.2566\n",
    " INDIA                     | 52035512.0002\n",
    " JAPAN                     | 45410175.6954\n",
    "(5 行记录)"
   ]
  },
  {
   "cell_type": "code",
   "execution_count": null,
   "metadata": {
    "vscode": {
     "languageId": "plaintext"
    }
   },
   "outputs": [],
   "source": [
    "Q6"
   ]
  },
  {
   "cell_type": "code",
   "execution_count": null,
   "metadata": {
    "vscode": {
     "languageId": "plaintext"
    }
   },
   "outputs": [],
   "source": [
    "\n",
    "select\n",
    "\tsum(l_extendedprice * l_discount) as revenue\n",
    "from\n",
    "\tlineitem\n",
    "where\n",
    "\tl_shipdate >= date '1994-01-01'\n",
    "\tand l_shipdate < date '1994-01-01' + interval '1' year\n",
    "\tand l_discount between .06 - 0.01 and .06 + 0.01\n",
    "\tand l_quantity < 24;\n",
    "--limit -1;\n"
   ]
  },
  {
   "cell_type": "code",
   "execution_count": null,
   "metadata": {
    "vscode": {
     "languageId": "plaintext"
    }
   },
   "outputs": [],
   "source": [
    "运行结果：    revenue\n",
    "----------------\n",
    " 123141078.2283\n",
    "(1 行记录)"
   ]
  },
  {
   "cell_type": "code",
   "execution_count": null,
   "metadata": {
    "vscode": {
     "languageId": "plaintext"
    }
   },
   "outputs": [],
   "source": [
    "Q7"
   ]
  },
  {
   "cell_type": "code",
   "execution_count": null,
   "metadata": {
    "vscode": {
     "languageId": "plaintext"
    }
   },
   "outputs": [],
   "source": [
    "\n",
    "\n",
    "select\n",
    "\tsupp_nation,\n",
    "\tcust_nation,\n",
    "\tl_year,\n",
    "\tsum(volume) as revenue\n",
    "from\n",
    "\t(\n",
    "\t\tselect\n",
    "\t\t\tn1.n_name as supp_nation,\n",
    "\t\t\tn2.n_name as cust_nation,\n",
    "\t\t\textract(year from l_shipdate) as l_year,\n",
    "\t\t\tl_extendedprice * (1 - l_discount) as volume\n",
    "\t\tfrom\n",
    "\t\t\tsupplier,\n",
    "\t\t\tlineitem,\n",
    "\t\t\torders,\n",
    "\t\t\tcustomer,\n",
    "\t\t\tnation n1,\n",
    "\t\t\tnation n2\n",
    "\t\twhere\n",
    "\t\t\ts_suppkey = l_suppkey\n",
    "\t\t\tand o_orderkey = l_orderkey\n",
    "\t\t\tand c_custkey = o_custkey\n",
    "\t\t\tand s_nationkey = n1.n_nationkey\n",
    "\t\t\tand c_nationkey = n2.n_nationkey\n",
    "\t\t\tand (\n",
    "\t\t\t\t(n1.n_name = 'FRANCE' and n2.n_name = 'GERMANY')\n",
    "\t\t\t\tor (n1.n_name = 'GERMANY' and n2.n_name = 'FRANCE')\n",
    "\t\t\t)\n",
    "\t\t\tand l_shipdate between date '1995-01-01' and date '1996-12-31'\n",
    "\t) as shipping\n",
    "group by\n",
    "\tsupp_nation,\n",
    "\tcust_nation,\n",
    "\tl_year\n",
    "order by\n",
    "\tsupp_nation,\n",
    "\tcust_nation,\n",
    "\tl_year;\n",
    "--limit -1;\n"
   ]
  },
  {
   "cell_type": "code",
   "execution_count": null,
   "metadata": {
    "vscode": {
     "languageId": "plaintext"
    }
   },
   "outputs": [],
   "source": [
    "运行结果：        supp_nation        |        cust_nation        | l_year |    revenue\n",
    "---------------------------+---------------------------+--------+---------------\n",
    " FRANCE                    | GERMANY                   |   1995 | 54639732.7336\n",
    " FRANCE                    | GERMANY                   |   1996 | 54633083.3076\n",
    " GERMANY                   | FRANCE                    |   1995 | 52531746.6697\n",
    " GERMANY                   | FRANCE                    |   1996 | 52520549.0224\n",
    "(4 行记录)"
   ]
  },
  {
   "cell_type": "code",
   "execution_count": null,
   "metadata": {
    "vscode": {
     "languageId": "plaintext"
    }
   },
   "outputs": [],
   "source": [
    "Q9"
   ]
  },
  {
   "cell_type": "code",
   "execution_count": null,
   "metadata": {
    "vscode": {
     "languageId": "plaintext"
    }
   },
   "outputs": [],
   "source": [
    "\n",
    "\n",
    "select\n",
    "\tnation,\n",
    "\to_year,\n",
    "\tsum(amount) as sum_profit\n",
    "from\n",
    "\t(\n",
    "\t\tselect\n",
    "\t\t\tn_name as nation,\n",
    "\t\t\textract(year from o_orderdate) as o_year,\n",
    "\t\t\tl_extendedprice * (1 - l_discount) - ps_supplycost * l_quantity as amount\n",
    "\t\tfrom\n",
    "\t\t\tpart,\n",
    "\t\t\tsupplier,\n",
    "\t\t\tlineitem,\n",
    "\t\t\tpartsupp,\n",
    "\t\t\torders,\n",
    "\t\t\tnation\n",
    "\t\twhere\n",
    "\t\t\ts_suppkey = l_suppkey\n",
    "\t\t\tand ps_suppkey = l_suppkey\n",
    "\t\t\tand ps_partkey = l_partkey\n",
    "\t\t\tand p_partkey = l_partkey\n",
    "\t\t\tand o_orderkey = l_orderkey\n",
    "\t\t\tand s_nationkey = n_nationkey\n",
    "\t\t\tand p_name like '%green%'\n",
    "\t) as profit\n",
    "group by\n",
    "\tnation,\n",
    "\to_year\n",
    "order by\n",
    "\tnation,\n",
    "\to_year desc\n",
    "limit 10;\n"
   ]
  },
  {
   "cell_type": "code",
   "execution_count": null,
   "metadata": {
    "vscode": {
     "languageId": "plaintext"
    }
   },
   "outputs": [],
   "source": [
    "运行结果：          nation           | o_year |  sum_profit\n",
    "---------------------------+--------+---------------\n",
    " ALGERIA                   |   1998 | 27136900.1803\n",
    " ALGERIA                   |   1997 | 48611833.4962\n",
    " ALGERIA                   |   1996 | 48285482.6782\n",
    " ALGERIA                   |   1995 | 44402273.5999\n",
    " ALGERIA                   |   1994 | 48694008.0668\n",
    " ALGERIA                   |   1993 | 46044207.7838\n",
    " ALGERIA                   |   1992 | 45636849.4881\n",
    " ARGENTINA                 |   1998 | 28341663.7848\n",
    " ARGENTINA                 |   1997 | 47143964.1176\n",
    " ARGENTINA                 |   1996 | 45255278.6021\n",
    "(10 行记录)"
   ]
  },
  {
   "cell_type": "code",
   "execution_count": null,
   "metadata": {
    "vscode": {
     "languageId": "plaintext"
    }
   },
   "outputs": [],
   "source": [
    "Q10"
   ]
  },
  {
   "cell_type": "code",
   "execution_count": null,
   "metadata": {
    "vscode": {
     "languageId": "plaintext"
    }
   },
   "outputs": [],
   "source": [
    "\n",
    "\n",
    "select\n",
    "\tc_custkey,\n",
    "\tc_name,\n",
    "\tsum(l_extendedprice * (1 - l_discount)) as revenue,\n",
    "\tc_acctbal,\n",
    "\tn_name,\n",
    "\tc_address,\n",
    "\tc_phone,\n",
    "\tc_comment\n",
    "from\n",
    "\tcustomer,\n",
    "\torders,\n",
    "\tlineitem,\n",
    "\tnation\n",
    "where\n",
    "\tc_custkey = o_custkey\n",
    "\tand l_orderkey = o_orderkey\n",
    "\tand o_orderdate >= date '1993-10-01'\n",
    "\tand o_orderdate < date '1993-10-01' + interval '3' month\n",
    "\tand l_returnflag = 'R'\n",
    "\tand c_nationkey = n_nationkey\n",
    "group by\n",
    "\tc_custkey,\n",
    "\tc_name,\n",
    "\tc_acctbal,\n",
    "\tc_phone,\n",
    "\tn_name,\n",
    "\tc_address,\n",
    "\tc_comment\n",
    "order by\n",
    "\trevenue desc\n",
    "limit 10;\n"
   ]
  },
  {
   "cell_type": "code",
   "execution_count": null,
   "metadata": {
    "vscode": {
     "languageId": "plaintext"
    }
   },
   "outputs": [],
   "source": [
    "运行结果： c_custkey |       c_name       |   revenue   | c_acctbal |          n_name           |                c_address                 |     c_phone     |                                                  c_comment                                 \n",
    "-----------+--------------------+-------------+-----------+---------------------------+------------------------------------------+-----------------+-------------------------------------------------------------------------------------------------------------\n",
    "     57040 | Customer#000057040 | 734235.2455 |    632.87 | JAPAN                     | Eioyzjf4pp                               | 22-895-641-3466 | sits. slyly regular requests sleep alongside of the regular inst\n",
    "    143347 | Customer#000143347 | 721002.6948 |   2557.47 | EGYPT                     | 1aReFYv,Kw4                              | 14-742-935-3718 | ggle carefully enticing requests. final deposits use bold, bold pinto beans. ironic, idle re\n",
    "     60838 | Customer#000060838 | 679127.3077 |   2454.77 | BRAZIL                    | 64EaJ5vMAHWJlBOxJklpNc2RJiWE             | 12-913-494-9813 |  need to boost against the slyly regular account\n",
    "    101998 | Customer#000101998 | 637029.5667 |   3790.89 | UNITED KINGDOM            | 01c9CILnNtfOQYmZj                        | 33-593-865-6378 | ress foxes wake slyly after the bold excuses. ironic platelets are furiously carefully bold theodolites\n",
    "    125341 | Customer#000125341 | 633508.0860 |   4983.51 | GERMANY                   | S29ODD6bceU8QSuuEJznkNaK                 | 17-582-695-5962 | arefully even depths. blithely even excuses sleep furiously. foxes use except the dependencies. ca\n",
    "     25501 | Customer#000025501 | 620269.7849 |   7725.04 | ETHIOPIA                  |   W556MXuoiaYCCZamJI,Rn0B4ACUGdkQ8DZ     | 15-874-808-6793 | he pending instructions wake carefully at the pinto beans. regular, final instructions along the slyly fina\n",
    "    115831 | Customer#000115831 | 596423.8672 |   5098.10 | FRANCE                    | rFeBbEEyk dl ne7zV5fDrmiq1oK09wV7pxqCgIc | 16-715-386-3788 | l somas sleep. furiously final deposits wake blithely regular pinto b\n",
    "     84223 | Customer#000084223 | 594998.0239 |    528.65 | UNITED KINGDOM            | nAVZCs6BaWap rrM27N 2qBnzc5WBauxbA       | 33-442-824-8191 |  slyly final deposits haggle regular, pending dependencies. pending escapades wake\n",
    "     54289 | Customer#000054289 | 585603.3918 |   5583.02 | IRAN                      | vXCxoCsU0Bad5JQI ,oobkZ                  | 20-834-292-4707 | ely special foxes are quickly finally ironic p\n",
    "     39922 | Customer#000039922 | 584878.1134 |   7321.11 | GERMANY                   | Zgy4s50l2GKN4pLDPBU8m342gIw6R            | 17-147-757-8036 | y final requests. furiously final foxes cajole blithely special platelets. f\n",
    "(10 行记录)"
   ]
  },
  {
   "cell_type": "code",
   "execution_count": null,
   "metadata": {
    "vscode": {
     "languageId": "plaintext"
    }
   },
   "outputs": [],
   "source": [
    "Q11"
   ]
  },
  {
   "cell_type": "code",
   "execution_count": null,
   "metadata": {
    "vscode": {
     "languageId": "plaintext"
    }
   },
   "outputs": [],
   "source": [
    "\n",
    "\n",
    "select\n",
    "\tps_partkey,\n",
    "\tsum(ps_supplycost * ps_availqty) as value\n",
    "from\n",
    "\tpartsupp,\n",
    "\tsupplier,\n",
    "\tnation\n",
    "where\n",
    "\tps_suppkey = s_suppkey\n",
    "\tand s_nationkey = n_nationkey\n",
    "\tand n_name = 'GERMANY'\n",
    "group by\n",
    "\tps_partkey having\n",
    "\t\tsum(ps_supplycost * ps_availqty) > (\n",
    "\t\t\tselect\n",
    "\t\t\t\tsum(ps_supplycost * ps_availqty) * 0.0001000000\n",
    "\t\t\tfrom\n",
    "\t\t\t\tpartsupp,\n",
    "\t\t\t\tsupplier,\n",
    "\t\t\t\tnation\n",
    "\t\t\twhere\n",
    "\t\t\t\tps_suppkey = s_suppkey\n",
    "\t\t\t\tand s_nationkey = n_nationkey\n",
    "\t\t\t\tand n_name = 'GERMANY'\n",
    "\t\t)\n",
    "order by\n",
    "\tvalue desc\n",
    "limit 10;\n"
   ]
  },
  {
   "cell_type": "code",
   "execution_count": null,
   "metadata": {
    "vscode": {
     "languageId": "plaintext"
    }
   },
   "outputs": [],
   "source": [
    "运行结果： ps_partkey |    value\n",
    "------------+-------------\n",
    "     129760 | 17538456.86\n",
    "     166726 | 16503353.92\n",
    "     191287 | 16474801.97\n",
    "     161758 | 16101755.54\n",
    "      34452 | 15983844.72\n",
    "     139035 | 15907078.34\n",
    "       9403 | 15451755.62\n",
    "     154358 | 15212937.88\n",
    "      38823 | 15064802.86\n",
    "      85606 | 15053957.15\n",
    "(10 行记录)"
   ]
  },
  {
   "cell_type": "code",
   "execution_count": null,
   "metadata": {
    "vscode": {
     "languageId": "plaintext"
    }
   },
   "outputs": [],
   "source": [
    "Q12"
   ]
  },
  {
   "cell_type": "code",
   "execution_count": null,
   "metadata": {
    "vscode": {
     "languageId": "plaintext"
    }
   },
   "outputs": [],
   "source": [
    "\n",
    "\n",
    "select\n",
    "\tl_shipmode,\n",
    "\tsum(case\n",
    "\t\twhen o_orderpriority = '1-URGENT'\n",
    "\t\t\tor o_orderpriority = '2-HIGH'\n",
    "\t\t\tthen 1\n",
    "\t\telse 0\n",
    "\tend) as high_line_count,\n",
    "\tsum(case\n",
    "\t\twhen o_orderpriority <> '1-URGENT'\n",
    "\t\t\tand o_orderpriority <> '2-HIGH'\n",
    "\t\t\tthen 1\n",
    "\t\telse 0\n",
    "\tend) as low_line_count\n",
    "from\n",
    "\torders,\n",
    "\tlineitem\n",
    "where\n",
    "\to_orderkey = l_orderkey\n",
    "\tand l_shipmode in ('MAIL', 'SHIP')\n",
    "\tand l_commitdate < l_receiptdate\n",
    "\tand l_shipdate < l_commitdate\n",
    "\tand l_receiptdate >= date '1994-01-01'\n",
    "\tand l_receiptdate < date '1994-01-01' + interval '1' year\n",
    "group by\n",
    "\tl_shipmode\n",
    "order by\n",
    "\tl_shipmode;\n",
    "--limit -1;\n"
   ]
  },
  {
   "cell_type": "code",
   "execution_count": null,
   "metadata": {
    "vscode": {
     "languageId": "plaintext"
    }
   },
   "outputs": [],
   "source": [
    "运行结果： l_shipmode | high_line_count | low_line_count\n",
    "------------+-----------------+----------------\n",
    " MAIL       |            6202 |           9324\n",
    " SHIP       |            6200 |           9262\n",
    "(2 行记录)"
   ]
  },
  {
   "cell_type": "code",
   "execution_count": null,
   "metadata": {
    "vscode": {
     "languageId": "plaintext"
    }
   },
   "outputs": [],
   "source": [
    "Q14"
   ]
  },
  {
   "cell_type": "code",
   "execution_count": null,
   "metadata": {
    "vscode": {
     "languageId": "plaintext"
    }
   },
   "outputs": [],
   "source": [
    "\n",
    "\n",
    "select\n",
    "\t100.00 * sum(case\n",
    "\t\twhen p_type like 'PROMO%'\n",
    "\t\t\tthen l_extendedprice * (1 - l_discount)\n",
    "\t\telse 0\n",
    "\tend) / sum(l_extendedprice * (1 - l_discount)) as promo_revenue\n",
    "from\n",
    "\tlineitem,\n",
    "\tpart\n",
    "where\n",
    "\tl_partkey = p_partkey\n",
    "\tand l_shipdate >= date '1995-09-01'\n",
    "\tand l_shipdate < date '1995-09-01' + interval '1' month;\n",
    "--limit -1;\n"
   ]
  },
  {
   "cell_type": "code",
   "execution_count": null,
   "metadata": {
    "vscode": {
     "languageId": "plaintext"
    }
   },
   "outputs": [],
   "source": [
    "运行结果：    promo_revenue\n",
    "---------------------\n",
    " 16.3807786263955401\n",
    "(1 行记录)"
   ]
  },
  {
   "cell_type": "code",
   "execution_count": null,
   "metadata": {
    "vscode": {
     "languageId": "plaintext"
    }
   },
   "outputs": [],
   "source": [
    "Q19"
   ]
  },
  {
   "cell_type": "code",
   "execution_count": null,
   "metadata": {
    "vscode": {
     "languageId": "plaintext"
    }
   },
   "outputs": [],
   "source": [
    "\n",
    "select\n",
    "\tsum(l_extendedprice* (1 - l_discount)) as revenue\n",
    "from\n",
    "\tlineitem,\n",
    "\tpart\n",
    "where\n",
    "\t(\n",
    "\t\tp_partkey = l_partkey\n",
    "\t\tand p_brand = 'Brand#12'\n",
    "\t\tand p_container in ('SM CASE', 'SM BOX', 'SM PACK', 'SM PKG')\n",
    "\t\tand l_quantity >= 1 and l_quantity <= 1 + 10\n",
    "\t\tand p_size between 1 and 5\n",
    "\t\tand l_shipmode in ('AIR', 'AIR REG')\n",
    "\t\tand l_shipinstruct = 'DELIVER IN PERSON'\n",
    "\t)\n",
    "\tor\n",
    "\t(\n",
    "\t\tp_partkey = l_partkey\n",
    "\t\tand p_brand = 'Brand#23'\n",
    "\t\tand p_container in ('MED BAG', 'MED BOX', 'MED PKG', 'MED PACK')\n",
    "\t\tand l_quantity >= 10 and l_quantity <= 10 + 10\n",
    "\t\tand p_size between 1 and 10\n",
    "\t\tand l_shipmode in ('AIR', 'AIR REG')\n",
    "\t\tand l_shipinstruct = 'DELIVER IN PERSON'\n",
    "\t)\n",
    "\tor\n",
    "\t(\n",
    "\t\tp_partkey = l_partkey\n",
    "\t\tand p_brand = 'Brand#34'\n",
    "\t\tand p_container in ('LG CASE', 'LG BOX', 'LG PACK', 'LG PKG')\n",
    "\t\tand l_quantity >= 20 and l_quantity <= 20 + 10\n",
    "\t\tand p_size between 1 and 15\n",
    "\t\tand l_shipmode in ('AIR', 'AIR REG')\n",
    "\t\tand l_shipinstruct = 'DELIVER IN PERSON'\n",
    "\t);\n",
    "--limit -1;\n"
   ]
  },
  {
   "cell_type": "code",
   "execution_count": null,
   "metadata": {
    "vscode": {
     "languageId": "plaintext"
    }
   },
   "outputs": [],
   "source": [
    "运行结果：   revenue\n",
    "--------------\n",
    " 3083843.0578\n",
    "(1 行记录)"
   ]
  },
  {
   "cell_type": "code",
   "execution_count": null,
   "metadata": {
    "vscode": {
     "languageId": "plaintext"
    }
   },
   "outputs": [],
   "source": [
    "Q22"
   ]
  },
  {
   "cell_type": "code",
   "execution_count": null,
   "metadata": {
    "vscode": {
     "languageId": "plaintext"
    }
   },
   "outputs": [],
   "source": [
    "\n",
    "\n",
    "select\n",
    "\tcntrycode,\n",
    "\tcount(*) as numcust,\n",
    "\tsum(c_acctbal) as totacctbal\n",
    "from\n",
    "\t(\n",
    "\t\tselect\n",
    "\t\t\tsubstring(c_phone from 1 for 2) as cntrycode,\n",
    "\t\t\tc_acctbal\n",
    "\t\tfrom\n",
    "\t\t\tcustomer\n",
    "\t\twhere\n",
    "\t\t\tsubstring(c_phone from 1 for 2) in\n",
    "\t\t\t\t('13', '31', '23', '29', '30', '18', '17')\n",
    "\t\t\tand c_acctbal > (\n",
    "\t\t\t\tselect\n",
    "\t\t\t\t\tavg(c_acctbal)\n",
    "\t\t\t\tfrom\n",
    "\t\t\t\t\tcustomer\n",
    "\t\t\t\twhere\n",
    "\t\t\t\t\tc_acctbal > 0.00\n",
    "\t\t\t\t\tand substring(c_phone from 1 for 2) in\n",
    "\t\t\t\t\t\t('13', '31', '23', '29', '30', '18', '17')\n",
    "\t\t\t)\n",
    "\t\t\tand not exists (\n",
    "\t\t\t\tselect\n",
    "\t\t\t\t\t*\n",
    "\t\t\t\tfrom\n",
    "\t\t\t\t\torders\n",
    "\t\t\t\twhere\n",
    "\t\t\t\t\to_custkey = c_custkey\n",
    "\t\t\t)\n",
    "\t) as custsale\n",
    "group by\n",
    "\tcntrycode\n",
    "order by\n",
    "\tcntrycode;\n",
    "--limit -1;\n"
   ]
  },
  {
   "cell_type": "code",
   "execution_count": null,
   "metadata": {
    "vscode": {
     "languageId": "plaintext"
    }
   },
   "outputs": [],
   "source": [
    "运行结果： cntrycode | numcust | totacctbal\n",
    "-----------+---------+------------\n",
    " 13        |     888 | 6737713.99\n",
    " 17        |     861 | 6460573.72\n",
    " 18        |     964 | 7236687.40\n",
    " 23        |     892 | 6701457.95\n",
    " 29        |     948 | 7158866.63\n",
    " 30        |     909 | 6808436.13\n",
    " 31        |     922 | 6806670.18\n",
    "(7 行记录)"
   ]
  }
 ],
 "metadata": {
  "language_info": {
   "name": "python"
  }
 },
 "nbformat": 4,
 "nbformat_minor": 2
}
