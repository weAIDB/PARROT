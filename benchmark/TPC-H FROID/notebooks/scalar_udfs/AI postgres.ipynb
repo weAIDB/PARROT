{
 "cells": [
  {
   "cell_type": "code",
   "execution_count": null,
   "metadata": {
    "vscode": {
     "languageId": "sql"
    }
   },
   "outputs": [],
   "source": [
    "discount_price"
   ]
  },
  {
   "cell_type": "code",
   "execution_count": null,
   "metadata": {
    "vscode": {
     "languageId": "sql"
    }
   },
   "outputs": [],
   "source": [
    "CREATE OR REPLACE FUNCTION discount_price(\n",
    "    extprice DECIMAL(12,2),\n",
    "    disc DECIMAL(12,2)\n",
    ") RETURNS DECIMAL(12,2) AS $$\n",
    "DECLARE\n",
    "    result DECIMAL(12,2);\n",
    "BEGIN\n",
    "    result := extprice * (1 - disc);\n",
    "    RETURN result;\n",
    "END;\n",
    "$$ LANGUAGE plpgsql;\n"
   ]
  },
  {
   "cell_type": "code",
   "execution_count": null,
   "metadata": {
    "vscode": {
     "languageId": "sql"
    }
   },
   "outputs": [],
   "source": [
    "discount_taxprice"
   ]
  },
  {
   "cell_type": "code",
   "execution_count": null,
   "metadata": {
    "vscode": {
     "languageId": "sql"
    }
   },
   "outputs": [],
   "source": [
    "CREATE OR REPLACE FUNCTION discount_taxprice(\n",
    "    extprice DECIMAL(12,2),\n",
    "    disc DECIMAL(12,2),\n",
    "    tax DECIMAL(12,2)\n",
    ") RETURNS DECIMAL(12,2) AS $$\n",
    "BEGIN\n",
    "    RETURN discount_price(extprice, disc) * (1 + tax);\n",
    "END;\n",
    "$$ LANGUAGE plpgsql;\n"
   ]
  },
  {
   "cell_type": "code",
   "execution_count": null,
   "metadata": {
    "vscode": {
     "languageId": "sql"
    }
   },
   "outputs": [],
   "source": [
    "profit_amount"
   ]
  },
  {
   "cell_type": "code",
   "execution_count": null,
   "metadata": {
    "vscode": {
     "languageId": "sql"
    }
   },
   "outputs": [],
   "source": [
    "CREATE OR REPLACE FUNCTION profit_amount(\n",
    "    extprice DECIMAL(12,2),\n",
    "    discount DECIMAL(12,2),\n",
    "    suppcost DECIMAL(12,2),\n",
    "    qty INT\n",
    ") RETURNS DECIMAL(12,2) AS $$\n",
    "BEGIN\n",
    "    RETURN extprice * (1 - discount) - suppcost * qty;\n",
    "END;\n",
    "$$ LANGUAGE plpgsql;"
   ]
  },
  {
   "cell_type": "code",
   "execution_count": null,
   "metadata": {
    "vscode": {
     "languageId": "sql"
    }
   },
   "outputs": [],
   "source": [
    "isShippedBefore"
   ]
  },
  {
   "cell_type": "code",
   "execution_count": null,
   "metadata": {
    "vscode": {
     "languageId": "sql"
    }
   },
   "outputs": [],
   "source": [
    "CREATE OR REPLACE FUNCTION isShippedBefore(\n",
    "    shipdate DATE,\n",
    "    duration INT,\n",
    "    stdatechar VARCHAR(10)\n",
    ") RETURNS INT AS $$\n",
    "DECLARE\n",
    "    stdate DATE := stdatechar::DATE;\n",
    "    newdate DATE := stdate + (duration || ' days')::INTERVAL;\n",
    "BEGIN\n",
    "    IF shipdate > newdate THEN\n",
    "        RETURN 0;\n",
    "    END IF;\n",
    "    RETURN 1;\n",
    "END;\n",
    "$$ LANGUAGE plpgsql;"
   ]
  },
  {
   "cell_type": "code",
   "execution_count": null,
   "metadata": {
    "vscode": {
     "languageId": "sql"
    }
   },
   "outputs": [],
   "source": [
    "checkDate"
   ]
  },
  {
   "cell_type": "code",
   "execution_count": null,
   "metadata": {
    "vscode": {
     "languageId": "sql"
    }
   },
   "outputs": [],
   "source": [
    "CREATE OR REPLACE FUNCTION checkDate(\n",
    "    d VARCHAR(10),\n",
    "    odate DATE,\n",
    "    shipdate DATE\n",
    ") RETURNS INT AS $$\n",
    "BEGIN\n",
    "    IF odate < d::DATE AND shipdate > d::DATE THEN\n",
    "        RETURN 1;\n",
    "    END IF;\n",
    "    RETURN 0;\n",
    "END;\n",
    "$$ LANGUAGE plpgsql;\n"
   ]
  },
  {
   "cell_type": "code",
   "execution_count": null,
   "metadata": {
    "vscode": {
     "languageId": "sql"
    }
   },
   "outputs": [],
   "source": [
    "q3conditions"
   ]
  },
  {
   "cell_type": "code",
   "execution_count": null,
   "metadata": {
    "vscode": {
     "languageId": "sql"
    }
   },
   "outputs": [],
   "source": [
    "CREATE OR REPLACE FUNCTION q3conditions(\n",
    "    cmkt VARCHAR(10),\n",
    "    odate DATE,\n",
    "    shipdate DATE\n",
    ") RETURNS INT AS $$\n",
    "DECLARE\n",
    "    thedate DATE := '1995-03-15';\n",
    "BEGIN\n",
    "    IF cmkt <> 'BUILDING' THEN\n",
    "        RETURN 0;\n",
    "    END IF;\n",
    "    IF checkDate(thedate::VARCHAR, odate, shipdate) = 0 THEN\n",
    "        RETURN 0;\n",
    "    END IF;\n",
    "    IF isShippedBefore(shipdate, 122, thedate::VARCHAR) = 0 THEN\n",
    "        RETURN 0;\n",
    "    END IF;\n",
    "    RETURN 1;\n",
    "END;\n",
    "$$ LANGUAGE plpgsql;\n"
   ]
  },
  {
   "cell_type": "code",
   "execution_count": null,
   "metadata": {
    "vscode": {
     "languageId": "sql"
    }
   },
   "outputs": [],
   "source": [
    "q5Conditions"
   ]
  },
  {
   "cell_type": "code",
   "execution_count": null,
   "metadata": {
    "vscode": {
     "languageId": "sql"
    }
   },
   "outputs": [],
   "source": [
    "CREATE OR REPLACE FUNCTION q5Conditions(\n",
    "    rname CHAR(25),\n",
    "    odate DATE\n",
    ") RETURNS INT AS $$\n",
    "DECLARE\n",
    "    beginDate DATE := '1994-01-01';\n",
    "    newdate DATE := beginDate + INTERVAL '1 year';\n",
    "BEGIN\n",
    "    IF rname <> 'ASIA' THEN\n",
    "        RETURN 0;\n",
    "    END IF;\n",
    "    IF odate < beginDate THEN\n",
    "        RETURN 0;\n",
    "    END IF;\n",
    "    IF odate >= newdate THEN\n",
    "        RETURN 0;\n",
    "    END IF;\n",
    "    RETURN 1;\n",
    "END;\n",
    "$$ LANGUAGE plpgsql;\n"
   ]
  },
  {
   "cell_type": "code",
   "execution_count": null,
   "metadata": {
    "vscode": {
     "languageId": "sql"
    }
   },
   "outputs": [],
   "source": [
    "q6conditions"
   ]
  },
  {
   "cell_type": "code",
   "execution_count": null,
   "metadata": {
    "vscode": {
     "languageId": "sql"
    }
   },
   "outputs": [],
   "source": [
    "CREATE OR REPLACE FUNCTION q6conditions(\n",
    "    shipdate DATE,\n",
    "    discount DECIMAL(12,2),\n",
    "    qty INT\n",
    ") RETURNS INT AS $$\n",
    "DECLARE\n",
    "    stdate DATE := '1994-01-01';\n",
    "    newdate DATE := stdate + INTERVAL '1 year';\n",
    "    val DECIMAL(12,2) := 0.06;\n",
    "    epsilon DECIMAL(12,2) := 0.01;\n",
    "    lowerbound DECIMAL(12,2) := val - epsilon;\n",
    "    upperbound DECIMAL(12,2) := val + epsilon;\n",
    "BEGIN\n",
    "    IF shipdate < stdate THEN\n",
    "        RETURN 0;\n",
    "    END IF;\n",
    "    IF shipdate >= newdate THEN\n",
    "        RETURN 0;\n",
    "    END IF;\n",
    "    IF qty >= 24 THEN\n",
    "        RETURN 0;\n",
    "    END IF;\n",
    "    IF discount >= lowerbound AND discount <= upperbound THEN\n",
    "        RETURN 1;\n",
    "    END IF;\n",
    "    RETURN 0;\n",
    "END;\n",
    "$$ LANGUAGE plpgsql;\n"
   ]
  },
  {
   "cell_type": "code",
   "execution_count": null,
   "metadata": {
    "vscode": {
     "languageId": "sql"
    }
   },
   "outputs": [],
   "source": [
    "q7conditions"
   ]
  },
  {
   "cell_type": "code",
   "execution_count": null,
   "metadata": {
    "vscode": {
     "languageId": "sql"
    }
   },
   "outputs": [],
   "source": [
    "CREATE OR REPLACE FUNCTION q7conditions(\n",
    "    n1name VARCHAR(25),\n",
    "    n2name VARCHAR(25),\n",
    "    shipdate DATE\n",
    ") RETURNS INT AS $$\n",
    "BEGIN\n",
    "    IF shipdate NOT BETWEEN '1995-01-01' AND '1996-12-31' THEN\n",
    "        RETURN 0;\n",
    "    END IF;\n",
    "    IF n1name = 'FRANCE' AND n2name = 'GERMANY' THEN\n",
    "        RETURN 1;\n",
    "    END IF;\n",
    "    IF n1name = 'GERMANY' AND n2name = 'FRANCE' THEN\n",
    "        RETURN 1;\n",
    "    END IF;\n",
    "    RETURN 0;\n",
    "END;\n",
    "$$ LANGUAGE plpgsql;\n"
   ]
  },
  {
   "cell_type": "code",
   "execution_count": null,
   "metadata": {
    "vscode": {
     "languageId": "sql"
    }
   },
   "outputs": [],
   "source": [
    "q10conditions"
   ]
  },
  {
   "cell_type": "code",
   "execution_count": null,
   "metadata": {
    "vscode": {
     "languageId": "sql"
    }
   },
   "outputs": [],
   "source": [
    "CREATE OR REPLACE FUNCTION q10conditions(\n",
    "    odate DATE,\n",
    "    retflag CHAR(1)\n",
    ") RETURNS INT AS $$\n",
    "DECLARE\n",
    "    stdate DATE := '1993-10-01';\n",
    "    newdate DATE := stdate + INTERVAL '3 months';\n",
    "BEGIN\n",
    "    IF retflag <> 'R' THEN\n",
    "        RETURN 0;\n",
    "    END IF;\n",
    "    IF odate >= stdate AND odate < newdate THEN\n",
    "        RETURN 1;\n",
    "    END IF;\n",
    "    RETURN 0;\n",
    "END;\n",
    "$$ LANGUAGE plpgsql;\n"
   ]
  },
  {
   "cell_type": "code",
   "execution_count": null,
   "metadata": {
    "vscode": {
     "languageId": "sql"
    }
   },
   "outputs": [],
   "source": [
    "total_value"
   ]
  },
  {
   "cell_type": "code",
   "execution_count": null,
   "metadata": {
    "vscode": {
     "languageId": "sql"
    }
   },
   "outputs": [],
   "source": [
    "CREATE OR REPLACE FUNCTION total_value() RETURNS DECIMAL(12,2) AS $$\n",
    "DECLARE\n",
    "    total DECIMAL(12,2);\n",
    "BEGIN\n",
    "    SELECT SUM(PS_SUPPLYCOST * PS_AVAILQTY) * 0.0001000000\n",
    "    INTO total\n",
    "    FROM PARTSUPP, SUPPLIER, NATION\n",
    "    WHERE PS_SUPPKEY = S_SUPPKEY\n",
    "      AND S_NATIONKEY = N_NATIONKEY\n",
    "      AND N_NAME = 'GERMANY';\n",
    "\n",
    "    RETURN total;\n",
    "END;\n",
    "$$ LANGUAGE plpgsql;\n"
   ]
  },
  {
   "cell_type": "code",
   "execution_count": null,
   "metadata": {
    "vscode": {
     "languageId": "sql"
    }
   },
   "outputs": [],
   "source": [
    "line_count"
   ]
  },
  {
   "cell_type": "code",
   "execution_count": null,
   "metadata": {
    "vscode": {
     "languageId": "sql"
    }
   },
   "outputs": [],
   "source": [
    "CREATE OR REPLACE FUNCTION line_count(\n",
    "    oprio CHAR(15),\n",
    "    mode VARCHAR(4)\n",
    ") RETURNS INT AS $$\n",
    "DECLARE\n",
    "    val INT := 0;\n",
    "BEGIN\n",
    "    IF mode = 'high' THEN\n",
    "        IF oprio = '1-URGENT' OR oprio = '2-HIGH' THEN\n",
    "            val := 1;\n",
    "        END IF;\n",
    "    ELSIF mode = 'low' THEN\n",
    "        IF oprio = '1-URGENT' AND oprio = '2-HIGH' THEN\n",
    "            val := 1;\n",
    "        END IF;\n",
    "    END IF;\n",
    "    RETURN val;\n",
    "END;\n",
    "$$ LANGUAGE plpgsql;\n"
   ]
  },
  {
   "cell_type": "code",
   "execution_count": null,
   "metadata": {
    "vscode": {
     "languageId": "sql"
    }
   },
   "outputs": [],
   "source": [
    "q12conditions"
   ]
  },
  {
   "cell_type": "code",
   "execution_count": null,
   "metadata": {
    "vscode": {
     "languageId": "sql"
    }
   },
   "outputs": [],
   "source": [
    "CREATE OR REPLACE FUNCTION q12conditions(\n",
    "    shipmode CHAR(10),\n",
    "    commitdate DATE,\n",
    "    receiptdate DATE,\n",
    "    shipdate DATE\n",
    ") RETURNS INT AS $$\n",
    "DECLARE\n",
    "    stdate DATE := '1995-09-01';\n",
    "    newdate DATE := stdate + INTERVAL '1 month';\n",
    "BEGIN\n",
    "    IF shipmode IN ('MAIL', 'SHIP') THEN\n",
    "        IF receiptdate < '1994-01-01' THEN\n",
    "            RETURN 0;\n",
    "        END IF;\n",
    "        IF commitdate < receiptdate AND shipdate < commitdate AND receiptdate < newdate THEN\n",
    "            RETURN 1;\n",
    "        END IF;\n",
    "    END IF;\n",
    "    RETURN 0;\n",
    "END;\n",
    "$$ LANGUAGE plpgsql;\n"
   ]
  },
  {
   "cell_type": "code",
   "execution_count": null,
   "metadata": {
    "vscode": {
     "languageId": "sql"
    }
   },
   "outputs": [],
   "source": [
    "promo_disc"
   ]
  },
  {
   "cell_type": "code",
   "execution_count": null,
   "metadata": {
    "vscode": {
     "languageId": "sql"
    }
   },
   "outputs": [],
   "source": [
    "CREATE OR REPLACE FUNCTION promo_disc(\n",
    "    ptype VARCHAR(25),\n",
    "    extprice DECIMAL(12,2),\n",
    "    disc DECIMAL(12,2)\n",
    ") RETURNS DECIMAL(12,2) AS $$\n",
    "DECLARE\n",
    "    val DECIMAL(12,2);\n",
    "BEGIN\n",
    "    IF ptype LIKE 'PROMO%' THEN\n",
    "        val := discount_price(extprice, disc);\n",
    "    ELSE\n",
    "        val := 0.0;\n",
    "    END IF;\n",
    "    RETURN val;\n",
    "END;\n",
    "$$ LANGUAGE plpgsql;\n"
   ]
  },
  {
   "cell_type": "code",
   "execution_count": null,
   "metadata": {
    "vscode": {
     "languageId": "sql"
    }
   },
   "outputs": [],
   "source": [
    "q19conditions"
   ]
  },
  {
   "cell_type": "code",
   "execution_count": null,
   "metadata": {
    "vscode": {
     "languageId": "sql"
    }
   },
   "outputs": [],
   "source": [
    "CREATE OR REPLACE FUNCTION q19conditions(\n",
    "    pcontainer CHAR(10),\n",
    "    lqty INT,\n",
    "    psize INT,\n",
    "    shipmode CHAR(10),\n",
    "    shipinst CHAR(25),\n",
    "    pbrand CHAR(10)\n",
    ") RETURNS INT AS $$\n",
    "DECLARE\n",
    "    val INT := 0;\n",
    "BEGIN\n",
    "    IF shipmode IN ('AIR', 'AIR REG') AND shipinst = 'DELIVER IN PERSON' THEN\n",
    "        IF pbrand = 'Brand#12' AND pcontainer IN ('SM CASE', 'SM BOX', 'SM PACK', 'SM PKG') AND lqty >= 1 AND lqty <= 11 AND psize BETWEEN 1 AND 5 THEN\n",
    "            val := 1;\n",
    "        END IF;\n",
    "        IF pbrand = 'Brand#23' AND pcontainer IN ('MED BAG', 'MED BOX', 'MED PKG', 'MED PACK') AND lqty >= 10 AND lqty <= 20 AND psize BETWEEN 1 AND 10 THEN\n",
    "            val := 1;\n",
    "        END IF;\n",
    "        IF pbrand = 'Brand#34' AND pcontainer IN ('LG CASE', 'LG BOX', 'LG PACK', 'LG PKG') AND lqty >= 20 AND lqty <= 30 AND psize BETWEEN 1 AND 15 THEN\n",
    "            val := 1;\n",
    "        END IF;\n",
    "    END IF;\n",
    "    RETURN val;\n",
    "END;\n",
    "$$ LANGUAGE plpgsql;\n"
   ]
  },
  {
   "cell_type": "code",
   "execution_count": null,
   "metadata": {
    "vscode": {
     "languageId": "sql"
    }
   },
   "outputs": [],
   "source": [
    "avg_actbal"
   ]
  },
  {
   "cell_type": "code",
   "execution_count": null,
   "metadata": {
    "vscode": {
     "languageId": "sql"
    }
   },
   "outputs": [],
   "source": [
    "CREATE OR REPLACE FUNCTION avg_actbal() RETURNS DECIMAL(12,2) AS $$\n",
    "BEGIN\n",
    "    RETURN (\n",
    "        SELECT AVG(C_ACCTBAL)\n",
    "        FROM CUSTOMER\n",
    "        WHERE C_ACCTBAL > 0.00\n",
    "        AND SUBSTRING(C_PHONE, 1, 2) IN ('13', '31', '23', '29', '30', '18', '17')\n",
    "    );\n",
    "END;\n",
    "$$ LANGUAGE plpgsql;\n"
   ]
  }
 ],
 "metadata": {
  "language_info": {
   "name": "python"
  }
 },
 "nbformat": 4,
 "nbformat_minor": 2
}
