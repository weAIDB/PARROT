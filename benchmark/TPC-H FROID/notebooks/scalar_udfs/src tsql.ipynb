{
 "cells": [
  {
   "cell_type": "code",
   "execution_count": null,
   "metadata": {
    "vscode": {
     "languageId": "sql"
    }
   },
   "outputs": [],
   "source": [
    "discount_price"
   ]
  },
  {
   "cell_type": "code",
   "execution_count": null,
   "metadata": {
    "vscode": {
     "languageId": "sql"
    }
   },
   "outputs": [],
   "source": [
    "CREATE FUNCTION dbo.discount_price(\n",
    "    @extprice DECIMAL(12,2),\n",
    "    @disc DECIMAL(12,2)\n",
    ") RETURNS DECIMAL(12,2)\n",
    "AS\n",
    "BEGIN\n",
    "    RETURN @extprice * (1 - @disc);\n",
    "END;"
   ]
  },
  {
   "cell_type": "code",
   "execution_count": null,
   "metadata": {
    "vscode": {
     "languageId": "sql"
    }
   },
   "outputs": [],
   "source": [
    "discount_taxprice"
   ]
  },
  {
   "cell_type": "code",
   "execution_count": null,
   "metadata": {
    "vscode": {
     "languageId": "sql"
    }
   },
   "outputs": [],
   "source": [
    "CREATE FUNCTION dbo.discount_taxprice(\n",
    "    @extprice DECIMAL(12,2),\n",
    "    @disc DECIMAL(12,2),\n",
    "    @tax DECIMAL(12,2)\n",
    ") RETURNS DECIMAL(12,2)\n",
    "AS\n",
    "BEGIN\n",
    "    RETURN dbo.discount_price(@extprice, @disc) * (1 + @tax);\n",
    "END;"
   ]
  },
  {
   "cell_type": "code",
   "execution_count": null,
   "metadata": {
    "vscode": {
     "languageId": "sql"
    }
   },
   "outputs": [],
   "source": [
    "profit_amount"
   ]
  },
  {
   "cell_type": "code",
   "execution_count": null,
   "metadata": {
    "vscode": {
     "languageId": "sql"
    }
   },
   "outputs": [],
   "source": [
    "CREATE FUNCTION dbo.profit_amount(\n",
    "    @extprice DECIMAL(12,2),\n",
    "    @discount DECIMAL(12,2),\n",
    "    @suppcost DECIMAL(12,2),\n",
    "    @qty INT\n",
    ") RETURNS DECIMAL(12,2)\n",
    "AS\n",
    "BEGIN\n",
    "    RETURN @extprice * (1 - @discount) - @suppcost * @qty;\n",
    "END;"
   ]
  },
  {
   "cell_type": "code",
   "execution_count": null,
   "metadata": {
    "vscode": {
     "languageId": "sql"
    }
   },
   "outputs": [],
   "source": [
    "isShippedBefore"
   ]
  },
  {
   "cell_type": "code",
   "execution_count": null,
   "metadata": {
    "vscode": {
     "languageId": "sql"
    }
   },
   "outputs": [],
   "source": [
    "CREATE FUNCTION dbo.isShippedBefore(\n",
    "    @shipdate DATE,\n",
    "    @duration INT,\n",
    "    @stdatechar VARCHAR(10)\n",
    ") RETURNS INT\n",
    "AS\n",
    "BEGIN\n",
    "    DECLARE @stdate DATE = CAST(@stdatechar AS DATE);\n",
    "    DECLARE @newdate DATE = DATEADD(DAY, @duration, @stdate);\n",
    "\n",
    "    IF @shipdate > @newdate\n",
    "        RETURN 0;\n",
    "\n",
    "    RETURN 1;\n",
    "END;"
   ]
  },
  {
   "cell_type": "code",
   "execution_count": null,
   "metadata": {
    "vscode": {
     "languageId": "sql"
    }
   },
   "outputs": [],
   "source": [
    "checkDate"
   ]
  },
  {
   "cell_type": "code",
   "execution_count": null,
   "metadata": {
    "vscode": {
     "languageId": "sql"
    }
   },
   "outputs": [],
   "source": [
    "CREATE FUNCTION dbo.checkDate(\n",
    "    @d DATE,\n",
    "    @odate DATE,\n",
    "    @shipdate DATE\n",
    ") RETURNS INT\n",
    "AS\n",
    "BEGIN\n",
    "    IF @odate < @d AND @shipdate > @d\n",
    "        RETURN 1;\n",
    "\n",
    "    RETURN 0;\n",
    "END;"
   ]
  },
  {
   "cell_type": "code",
   "execution_count": null,
   "metadata": {
    "vscode": {
     "languageId": "sql"
    }
   },
   "outputs": [],
   "source": [
    "q3conditions"
   ]
  },
  {
   "cell_type": "code",
   "execution_count": null,
   "metadata": {
    "vscode": {
     "languageId": "sql"
    }
   },
   "outputs": [],
   "source": [
    "CREATE FUNCTION dbo.q3conditions(\n",
    "    @cmkt VARCHAR(10),\n",
    "    @odate DATE,\n",
    "    @shipdate DATE\n",
    ") RETURNS INT\n",
    "AS\n",
    "BEGIN\n",
    "    DECLARE @thedate DATE = '1995-03-15';\n",
    "\n",
    "    IF @cmkt <> 'BUILDING'\n",
    "        RETURN 0;\n",
    "\n",
    "    IF dbo.checkDate(@thedate, @odate, @shipdate) = 0\n",
    "        RETURN 0;\n",
    "\n",
    "    IF dbo.isShippedBefore(@shipdate, 122, @thedate) = 0\n",
    "        RETURN 0;\n",
    "\n",
    "    RETURN 1;\n",
    "END;"
   ]
  },
  {
   "cell_type": "code",
   "execution_count": null,
   "metadata": {
    "vscode": {
     "languageId": "sql"
    }
   },
   "outputs": [],
   "source": [
    "q5Conditions"
   ]
  },
  {
   "cell_type": "code",
   "execution_count": null,
   "metadata": {
    "vscode": {
     "languageId": "sql"
    }
   },
   "outputs": [],
   "source": [
    "CREATE FUNCTION dbo.q5Conditions(\n",
    "    @rname CHAR(25),\n",
    "    @odate DATE\n",
    ") RETURNS INT\n",
    "AS\n",
    "BEGIN\n",
    "    DECLARE @beginDate DATE = '1994-01-01';\n",
    "    DECLARE @newdate DATE = DATEADD(YEAR, 1, @beginDate);\n",
    "\n",
    "    IF @rname <> 'ASIA' OR @odate < @beginDate OR @odate >= @newdate\n",
    "        RETURN 0;\n",
    "\n",
    "    RETURN 1;\n",
    "END;"
   ]
  },
  {
   "cell_type": "code",
   "execution_count": null,
   "metadata": {
    "vscode": {
     "languageId": "sql"
    }
   },
   "outputs": [],
   "source": [
    "q6conditions"
   ]
  },
  {
   "cell_type": "code",
   "execution_count": null,
   "metadata": {
    "vscode": {
     "languageId": "sql"
    }
   },
   "outputs": [],
   "source": [
    "CREATE FUNCTION dbo.q6conditions(\n",
    "    @shipdate DATE,\n",
    "    @discount DECIMAL(12,2),\n",
    "    @qty INT\n",
    ") RETURNS INT\n",
    "AS\n",
    "BEGIN\n",
    "    DECLARE @stdate DATE = '1994-01-01';\n",
    "    DECLARE @newdate DATE = DATEADD(YEAR, 1, @stdate);\n",
    "    DECLARE @val DECIMAL(12,2) = 0.06;\n",
    "    DECLARE @epsilon DECIMAL(12,2) = 0.01;\n",
    "    DECLARE @lowerbound DECIMAL(12,2) = @val - @epsilon;\n",
    "    DECLARE @upperbound DECIMAL(12,2) = @val + @epsilon;\n",
    "\n",
    "    IF @shipdate < @stdate OR @shipdate >= @newdate OR @qty >= 24\n",
    "        RETURN 0;\n",
    "\n",
    "    IF @discount BETWEEN @lowerbound AND @upperbound\n",
    "        RETURN 1;\n",
    "\n",
    "    RETURN 0;\n",
    "END;"
   ]
  },
  {
   "cell_type": "code",
   "execution_count": null,
   "metadata": {
    "vscode": {
     "languageId": "sql"
    }
   },
   "outputs": [],
   "source": [
    "q7conditions"
   ]
  },
  {
   "cell_type": "code",
   "execution_count": null,
   "metadata": {
    "vscode": {
     "languageId": "sql"
    }
   },
   "outputs": [],
   "source": [
    "CREATE FUNCTION dbo.q7conditions(\n",
    "    @n1name VARCHAR(25),\n",
    "    @n2name VARCHAR(25),\n",
    "    @shipdate DATE\n",
    ") RETURNS INT\n",
    "AS\n",
    "BEGIN\n",
    "    IF @shipdate NOT BETWEEN '1995-01-01' AND '1996-12-31'\n",
    "        RETURN 0;\n",
    "\n",
    "    IF (@n1name = 'FRANCE' AND @n2name = 'GERMANY') OR (@n1name = 'GERMANY' AND @n2name = 'FRANCE')\n",
    "        RETURN 1;\n",
    "\n",
    "    RETURN 0;\n",
    "END;"
   ]
  },
  {
   "cell_type": "code",
   "execution_count": null,
   "metadata": {
    "vscode": {
     "languageId": "sql"
    }
   },
   "outputs": [],
   "source": [
    "q10conditions"
   ]
  },
  {
   "cell_type": "code",
   "execution_count": null,
   "metadata": {
    "vscode": {
     "languageId": "sql"
    }
   },
   "outputs": [],
   "source": [
    "CREATE FUNCTION dbo.q10conditions(\n",
    "    @odate DATE,\n",
    "    @retflag CHAR(1)\n",
    ") RETURNS INT\n",
    "AS\n",
    "BEGIN\n",
    "    DECLARE @stdate DATE = '1993-10-01';\n",
    "    DECLARE @newdate DATE = DATEADD(MONTH, 3, @stdate);\n",
    "\n",
    "    IF @retflag <> 'R'\n",
    "        RETURN 0;\n",
    "\n",
    "    IF @odate >= @stdate AND @odate < @newdate\n",
    "        RETURN 1;\n",
    "\n",
    "    RETURN 0;\n",
    "END;"
   ]
  },
  {
   "cell_type": "code",
   "execution_count": null,
   "metadata": {
    "vscode": {
     "languageId": "sql"
    }
   },
   "outputs": [],
   "source": [
    "total_value"
   ]
  },
  {
   "cell_type": "code",
   "execution_count": null,
   "metadata": {
    "vscode": {
     "languageId": "sql"
    }
   },
   "outputs": [],
   "source": [
    "CREATE FUNCTION dbo.total_value() RETURNS DECIMAL(12,2)\n",
    "AS\n",
    "BEGIN\n",
    "    RETURN (\n",
    "        SELECT SUM(PS_SUPPLYCOST * PS_AVAILQTY) * 0.0001000000\n",
    "        FROM PARTSUPP\n",
    "        JOIN SUPPLIER ON PS_SUPPKEY = S_SUPPKEY\n",
    "        JOIN NATION ON S_NATIONKEY = N_NATIONKEY\n",
    "        WHERE N_NAME = 'GERMANY'\n",
    "    );\n",
    "END;"
   ]
  },
  {
   "cell_type": "code",
   "execution_count": null,
   "metadata": {
    "vscode": {
     "languageId": "sql"
    }
   },
   "outputs": [],
   "source": [
    "line_count"
   ]
  },
  {
   "cell_type": "code",
   "execution_count": null,
   "metadata": {
    "vscode": {
     "languageId": "sql"
    }
   },
   "outputs": [],
   "source": [
    "CREATE FUNCTION dbo.line_count(\n",
    "    @oprio CHAR(15),\n",
    "    @mode VARCHAR(4)\n",
    ") RETURNS INT\n",
    "AS\n",
    "BEGIN\n",
    "    DECLARE @val INT = 0;\n",
    "\n",
    "    IF @mode = 'high'\n",
    "    BEGIN\n",
    "        IF @oprio IN ('1-URGENT', '2-HIGH')\n",
    "            SET @val = 1;\n",
    "    END\n",
    "    ELSE IF @mode = 'low'\n",
    "    BEGIN\n",
    "        IF @oprio IN ('1-URGENT', '2-HIGH')\n",
    "            SET @val = 1;\n",
    "    END;\n",
    "\n",
    "    RETURN @val;\n",
    "END;"
   ]
  },
  {
   "cell_type": "code",
   "execution_count": null,
   "metadata": {
    "vscode": {
     "languageId": "sql"
    }
   },
   "outputs": [],
   "source": [
    "q12conditions"
   ]
  },
  {
   "cell_type": "code",
   "execution_count": null,
   "metadata": {
    "vscode": {
     "languageId": "sql"
    }
   },
   "outputs": [],
   "source": [
    "CREATE FUNCTION dbo.q12conditions(\n",
    "    @shipmode CHAR(10),\n",
    "    @commitdate DATE,\n",
    "    @receiptdate DATE,\n",
    "    @shipdate DATE\n",
    ") RETURNS INT\n",
    "AS\n",
    "BEGIN\n",
    "    DECLARE @stdate DATE = '1995-09-01';\n",
    "    DECLARE @newdate DATE = DATEADD(MONTH, 1, @stdate);\n",
    "\n",
    "    IF @shipmode IN ('MAIL', 'SHIP')\n",
    "    BEGIN\n",
    "        IF @receiptdate < '1994-01-01'\n",
    "            RETURN 0;\n",
    "\n",
    "        IF @commitdate < @receiptdate AND @shipdate < @commitdate AND @receiptdate < @newdate\n",
    "            RETURN 1;\n",
    "    END;\n",
    "\n",
    "    RETURN 0;\n",
    "END;"
   ]
  },
  {
   "cell_type": "code",
   "execution_count": null,
   "metadata": {
    "vscode": {
     "languageId": "sql"
    }
   },
   "outputs": [],
   "source": [
    "promo_disc"
   ]
  },
  {
   "cell_type": "code",
   "execution_count": null,
   "metadata": {
    "vscode": {
     "languageId": "sql"
    }
   },
   "outputs": [],
   "source": [
    "CREATE FUNCTION dbo.promo_disc(\n",
    "    @ptype VARCHAR(25),\n",
    "    @extprice DECIMAL(12,2),\n",
    "    @disc DECIMAL(12,2)\n",
    ") RETURNS DECIMAL(12,2)\n",
    "AS\n",
    "BEGIN\n",
    "    DECLARE @val DECIMAL(12,2);\n",
    "\n",
    "    IF @ptype LIKE 'PROMO%'\n",
    "        SET @val = dbo.discount_price(@extprice, @disc);\n",
    "    ELSE\n",
    "        SET @val = 0.0;\n",
    "\n",
    "    RETURN @val;\n",
    "END;"
   ]
  },
  {
   "cell_type": "code",
   "execution_count": null,
   "metadata": {
    "vscode": {
     "languageId": "sql"
    }
   },
   "outputs": [],
   "source": [
    "q19conditions"
   ]
  },
  {
   "cell_type": "code",
   "execution_count": null,
   "metadata": {
    "vscode": {
     "languageId": "sql"
    }
   },
   "outputs": [],
   "source": [
    "CREATE FUNCTION dbo.q19conditions(\n",
    "    @pcontainer CHAR(10),\n",
    "    @lqty INT,\n",
    "    @psize INT,\n",
    "    @shipmode CHAR(10),\n",
    "    @shipinst CHAR(25),\n",
    "    @pbrand CHAR(10)\n",
    ") RETURNS INT\n",
    "AS\n",
    "BEGIN\n",
    "    DECLARE @val INT = 0;\n",
    "\n",
    "    IF @shipmode IN ('AIR', 'AIR REG') AND @shipinst = 'DELIVER IN PERSON'\n",
    "    BEGIN\n",
    "        IF @pbrand = 'Brand#12' AND @pcontainer IN ('SM CASE', 'SM BOX', 'SM PACK', 'SM PKG') AND @lqty BETWEEN 1 AND 11 AND @psize BETWEEN 1 AND 5\n",
    "            SET @val = 1;\n",
    "\n",
    "        IF @pbrand = 'Brand#23' AND @pcontainer IN ('MED BAG', 'MED BOX', 'MED PKG', 'MED PACK') AND @lqty BETWEEN 10 AND 20 AND @psize BETWEEN 1 AND 10\n",
    "            SET @val = 1;\n",
    "\n",
    "        IF @pbrand = 'Brand#34' AND @pcontainer IN ('LG CASE', 'LG BOX', 'LG PACK', 'LG PKG') AND @lqty BETWEEN 20 AND 30 AND @psize BETWEEN 1 AND 15\n",
    "            SET @val = 1;\n",
    "    END;\n",
    "\n",
    "    RETURN @val;\n",
    "END;"
   ]
  },
  {
   "cell_type": "code",
   "execution_count": null,
   "metadata": {
    "vscode": {
     "languageId": "sql"
    }
   },
   "outputs": [],
   "source": [
    "avg_actbal"
   ]
  },
  {
   "cell_type": "code",
   "execution_count": null,
   "metadata": {
    "vscode": {
     "languageId": "sql"
    }
   },
   "outputs": [],
   "source": [
    "CREATE FUNCTION dbo.avg_actbal() RETURNS DECIMAL(12,2)\n",
    "AS\n",
    "BEGIN\n",
    "    RETURN (\n",
    "        SELECT AVG(C_ACCTBAL)\n",
    "        FROM CUSTOMER\n",
    "        WHERE C_ACCTBAL > 0.00\n",
    "        AND LEFT(C_PHONE, 2) IN ('13', '31', '23', '29', '30', '18', '17')\n",
    "    );\n",
    "END;\n"
   ]
  }
 ],
 "metadata": {
  "language_info": {
   "name": "python"
  }
 },
 "nbformat": 4,
 "nbformat_minor": 2
}
