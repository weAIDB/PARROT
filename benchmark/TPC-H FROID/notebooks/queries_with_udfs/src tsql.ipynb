{
 "cells": [
  {
   "cell_type": "code",
   "execution_count": null,
   "metadata": {
    "vscode": {
     "languageId": "plaintext"
    }
   },
   "outputs": [],
   "source": [
    "Q1"
   ]
  },
  {
   "cell_type": "code",
   "execution_count": null,
   "metadata": {
    "vscode": {
     "languageId": "plaintext"
    }
   },
   "outputs": [],
   "source": [
    "SELECT L_RETURNFLAG, L_LINESTATUS, SUM(L_QUANTITY) AS SUM_QTY,\n",
    "SUM(L_EXTENDEDPRICE) AS SUM_BASE_PRICE,\n",
    "SUM(dbo.discount_price(L_EXTENDEDPRICE, L_DISCOUNT)) AS SUM_DISC_PRICE,\n",
    "SUM(dbo.discount_taxprice(L_EXTENDEDPRICE, L_DISCOUNT, L_TAX)) AS SUM_CHARGE,\n",
    "AVG(L_QUANTITY) AS AVG_QTY,\n",
    "AVG(L_EXTENDEDPRICE) AS AVG_PRICE, AVG(L_DISCOUNT) AS AVG_DISC,\n",
    "COUNT(*) AS COUNT_ORDER\n",
    "FROM LINEITEM\n",
    "WHERE dbo.isShippedBefore(L_SHIPDATE, -90, '1998-12-01') = 1\n",
    "GROUP BY L_RETURNFLAG, L_LINESTATUS\n",
    "ORDER BY L_RETURNFLAG, L_LINESTATUS;"
   ]
  },
  {
   "cell_type": "code",
   "execution_count": null,
   "metadata": {
    "vscode": {
     "languageId": "plaintext"
    }
   },
   "outputs": [],
   "source": [
    "l_returnflag | l_linestatus |    sum_qty    |    sum_base_price    |    sum_disc_price    |    sum_charge    |   avg_qty   |   avg_price   |   avg_disc   |  count_order\n",
    "-------------+-------------+--------------+---------------------+---------------------+-----------------+-------------+--------------+-------------+--------------\n",
    "A            | F           | 37734107.00   | 566865540.73         | 53758257382.21      | 55909066592.19  | 25.522005   | 38273.129734 | 0.049985    | 1478493\n",
    "N            | F           | 991417.00     | 1487504710.38        | 1413082173.74       | 14696449232.14  | 25.516471   | 38284.467760 | 0.050093    | 38854\n",
    "N            | O           | 74476040.00   | 111701729697.74      | 106118230774.99     | 110367044585.55 | 25.502226   | 38249.117988 | 0.049996    | 2920374\n",
    "R            | F           | 37719753.00   | 56568041380.90       | 53741292921.05      | 55589619477.81  | 25.505793   | 38250.854626 | 0.050009    | 1478870\n",
    "(4 行记录)"
   ]
  },
  {
   "cell_type": "code",
   "execution_count": null,
   "metadata": {
    "vscode": {
     "languageId": "plaintext"
    }
   },
   "outputs": [],
   "source": [
    "Q3"
   ]
  },
  {
   "cell_type": "code",
   "execution_count": null,
   "metadata": {
    "vscode": {
     "languageId": "plaintext"
    }
   },
   "outputs": [],
   "source": [
    "SELECT TOP 10 L_ORDERKEY,\n",
    "SUM(dbo.discount_price(L_EXTENDEDPRICE, L_DISCOUNT)) AS REVENUE,\n",
    "O_ORDERDATE, O_SHIPPRIORITY\n",
    "FROM CUSTOMER, ORDERS, LINEITEM\n",
    "WHERE C_CUSTKEY = O_CUSTKEY AND L_ORDERKEY = O_ORDERKEY\n",
    "AND dbo.q3conditions(C_MKTSEGMENT, O_ORDERDATE, L_SHIPDATE) = 1\n",
    "GROUP BY L_ORDERKEY, O_ORDERDATE, O_SHIPPRIORITY\n",
    "ORDER BY REVENUE DESC, O_ORDERDATE;"
   ]
  },
  {
   "cell_type": "code",
   "execution_count": null,
   "metadata": {
    "vscode": {
     "languageId": "plaintext"
    }
   },
   "outputs": [],
   "source": [
    "l_orderkey |   revenue   | o_orderdate | o_shippriority\n",
    "-----------+-------------+-------------+---------------\n",
    "2456423   | 406181.00   | 1995-03-05  | 0\n",
    "3459600   | 405638.70   | 1995-03-04  | 0\n",
    "492164    | 390324.06   | 1995-02-19  | 0\n",
    "1186320   | 364537.93   | 1995-03-09  | 0\n",
    "2435712   | 378673.06   | 1995-02-26  | 0\n",
    "4878020   | 378376.79   | 1995-03-12  | 0\n",
    "5521732   | 375153.93   | 1995-03-13  | 0\n",
    "2628192   | 373133.31   | 1995-02-22  | 0\n",
    "933600    | 371407.45   | 1995-03-05  | 0\n",
    "2300070   | 367371.14   | 1995-03-13  | 0\n",
    "(10 行记录)"
   ]
  },
  {
   "cell_type": "code",
   "execution_count": null,
   "metadata": {
    "vscode": {
     "languageId": "plaintext"
    }
   },
   "outputs": [],
   "source": [
    "Q5"
   ]
  },
  {
   "cell_type": "code",
   "execution_count": null,
   "metadata": {
    "vscode": {
     "languageId": "plaintext"
    }
   },
   "outputs": [],
   "source": [
    "SELECT N_NAME,\n",
    "SUM(dbo.discount_price(L_EXTENDEDPRICE, L_DISCOUNT)) AS REVENUE\n",
    "FROM CUSTOMER, ORDERS, LINEITEM, SUPPLIER, NATION, REGION\n",
    "WHERE C_CUSTKEY = O_CUSTKEY AND L_ORDERKEY = O_ORDERKEY\n",
    "AND L_SUPPKEY = S_SUPPKEY AND C_NATIONKEY = S_NATIONKEY\n",
    "AND S_NATIONKEY = N_NATIONKEY AND N_REGIONKEY = R_REGIONKEY\n",
    "AND dbo.q5Conditions(R_NAME, O_ORDERDATE) = 1\n",
    "GROUP BY N_NAME\n",
    "ORDER BY REVENUE DESC;"
   ]
  },
  {
   "cell_type": "code",
   "execution_count": null,
   "metadata": {
    "vscode": {
     "languageId": "plaintext"
    }
   },
   "outputs": [],
   "source": [
    "n_name      |       revenue\n",
    "-----------+-------------------\n",
    "INDONESIA  | 55502041.37\n",
    "VIETNAM    | 55295087.24\n",
    "CHINA      | 53724494.43\n",
    "INDIA      | 52035512.19\n",
    "JAPAN      | 45410175.92\n",
    "(5 行记录)"
   ]
  },
  {
   "cell_type": "code",
   "execution_count": null,
   "metadata": {
    "vscode": {
     "languageId": "plaintext"
    }
   },
   "outputs": [],
   "source": [
    "Q6"
   ]
  },
  {
   "cell_type": "code",
   "execution_count": null,
   "metadata": {
    "vscode": {
     "languageId": "plaintext"
    }
   },
   "outputs": [],
   "source": [
    "SELECT SUM(L_EXTENDEDPRICE * L_DISCOUNT) AS REVENUE\n",
    "FROM LINEITEM\n",
    "WHERE dbo.q6conditions(L_SHIPDATE, L_DISCOUNT, L_QUANTITY) = 1;"
   ]
  },
  {
   "cell_type": "code",
   "execution_count": null,
   "metadata": {
    "vscode": {
     "languageId": "plaintext"
    }
   },
   "outputs": [],
   "source": [
    "REVENUE\n",
    "-------------------+\n",
    "123141078.2283\n",
    "(1 行记录)"
   ]
  },
  {
   "cell_type": "code",
   "execution_count": null,
   "metadata": {
    "vscode": {
     "languageId": "plaintext"
    }
   },
   "outputs": [],
   "source": [
    "Q7"
   ]
  },
  {
   "cell_type": "code",
   "execution_count": null,
   "metadata": {
    "vscode": {
     "languageId": "plaintext"
    }
   },
   "outputs": [],
   "source": [
    "SELECT SUPP_NATION, CUST_NATION, L_YEAR, SUM(VOLUME) AS REVENUE\n",
    "FROM (\n",
    "    SELECT N1.N_NAME AS SUPP_NATION, N2.N_NAME AS CUST_NATION,\n",
    "    datepart(yy, L_SHIPDATE) AS L_YEAR,\n",
    "    L_EXTENDEDPRICE * (1 - L_DISCOUNT) AS VOLUME\n",
    "    FROM SUPPLIER, LINEITEM, ORDERS, CUSTOMER, NATION N1, NATION N2\n",
    "    WHERE S_SUPPKEY = L_SUPPKEY AND O_ORDERKEY = L_ORDERKEY\n",
    "    AND C_CUSTKEY = O_CUSTKEY\n",
    "    AND S_NATIONKEY = N1.N_NATIONKEY\n",
    "    AND C_NATIONKEY = N2.N_NATIONKEY\n",
    "    AND dbo.q7conditions(N1.N_NAME, N2.N_NAME, L_SHIPDATE) = 1\n",
    ") AS SHIPPING\n",
    "GROUP BY SUPP_NATION, CUST_NATION, L_YEAR\n",
    "ORDER BY SUPP_NATION, CUST_NATION, L_YEAR;"
   ]
  },
  {
   "cell_type": "code",
   "execution_count": null,
   "metadata": {
    "vscode": {
     "languageId": "plaintext"
    }
   },
   "outputs": [],
   "source": [
    "supp_nation | cust_nation | l_year |    revenue\n",
    "-----------+------------+--------+---------------\n",
    "FRANCE     | GERMANY    | 1995   | 54639732.7336\n",
    "FRANCE     | GERMANY    | 1996   | 54633083.3076\n",
    "GERMANY    | FRANCE     | 1995   | 52531746.6697\n",
    "GERMANY    | FRANCE     | 1996   | 52520549.0224\n",
    "(4 行记录)"
   ]
  },
  {
   "cell_type": "code",
   "execution_count": null,
   "metadata": {
    "vscode": {
     "languageId": "plaintext"
    }
   },
   "outputs": [],
   "source": [
    "Q9"
   ]
  },
  {
   "cell_type": "code",
   "execution_count": null,
   "metadata": {
    "vscode": {
     "languageId": "plaintext"
    }
   },
   "outputs": [],
   "source": [
    "SELECT NATION, O_YEAR, SUM(AMOUNT) AS SUM_PROFIT\n",
    "FROM (\n",
    "    SELECT N_NAME AS NATION,\n",
    "    datepart(yy, O_ORDERDATE) AS O_YEAR,\n",
    "    dbo.profit_amount(L_EXTENDEDPRICE, L_DISCOUNT, PS_SUPPLYCOST, L_QUANTITY) AS AMOUNT\n",
    "    FROM PART, SUPPLIER, LINEITEM, PARTSUPP, ORDERS, NATION\n",
    "    WHERE S_SUPPKEY = L_SUPPKEY AND PS_SUPPKEY = L_SUPPKEY\n",
    "    AND PS_PARTKEY = L_PARTKEY AND P_PARTKEY = L_PARTKEY\n",
    "    AND O_ORDERKEY = L_ORDERKEY AND S_NATIONKEY = N_NATIONKEY AND\n",
    "    P_NAME LIKE '%green%'\n",
    ") AS PROFIT\n",
    "GROUP BY NATION, O_YEAR\n",
    "ORDER BY NATION, O_YEAR DESC;"
   ]
  },
  {
   "cell_type": "code",
   "execution_count": null,
   "metadata": {
    "vscode": {
     "languageId": "plaintext"
    }
   },
   "outputs": [],
   "source": [
    "nation       | o_year |      sum_profit\n",
    "------------+-------+-------------------\n",
    "ALGERIA      | 1995  | 27136900.41\n",
    "ALGERIA      | 1997  | 48611833.70\n",
    "ALGERIA      | 1996  | 48285482.91\n",
    "ALGERIA      | 1995  | 44402273.96\n",
    "ALGERIA      | 1994  | 48694008.22\n",
    "ALGERIA      | 1993  | 46044208.08\n",
    "ALGERIA      | 1992  | 45636849.67\n",
    "ARGENTINA    | 1996  | 28341663.81\n",
    "ARGENTINA    | 1997  | 47143964.50\n",
    "ARGENTINA    | 1996  | 45255278.82\n",
    "(10 行记录)"
   ]
  },
  {
   "cell_type": "code",
   "execution_count": null,
   "metadata": {
    "vscode": {
     "languageId": "plaintext"
    }
   },
   "outputs": [],
   "source": [
    "Q10"
   ]
  },
  {
   "cell_type": "code",
   "execution_count": null,
   "metadata": {
    "vscode": {
     "languageId": "plaintext"
    }
   },
   "outputs": [],
   "source": [
    "SELECT TOP 20 C_CUSTKEY, C_NAME,\n",
    "SUM(dbo.discount_price(L_EXTENDEDPRICE, L_DISCOUNT)) AS REVENUE,\n",
    "C_ACCTBAL, N_NAME, C_ADDRESS, C_PHONE, C_COMMENT\n",
    "FROM CUSTOMER, ORDERS, LINEITEM, NATION\n",
    "WHERE C_CUSTKEY = O_CUSTKEY AND L_ORDERKEY = O_ORDERKEY AND\n",
    "dbo.q10conditions(O_ORDERDATE, L_RETURNFLAG) = 1\n",
    "AND C_NATIONKEY = N_NATIONKEY\n",
    "GROUP BY C_CUSTKEY, C_NAME, C_ACCTBAL, C_PHONE,\n",
    "N_NAME, C_ADDRESS, C_COMMENT\n",
    "ORDER BY REVENUE DESC;"
   ]
  },
  {
   "cell_type": "code",
   "execution_count": null,
   "metadata": {
    "vscode": {
     "languageId": "plaintext"
    }
   },
   "outputs": [],
   "source": [
    "c_custkey |          c_name          |  revenue  |  c_acctbal  | n_name |                     c_address                      |          c_phone          |                                                                 c_comment\n",
    "---------+-------------------------+----------+------------+--------+---------------------------------------------------+--------------------------+-------------------------------------------------------------------------------------------------------------\n",
    "57040    | Customer#000057040   | 734235.24   | 2455       | JAPAN   | Eioyzj4pp                                           | 22-895-641-3466      | sits. slyly regular requests sleep alongside of the regular inst\n",
    "143347   | Customer#000143347   | 721002.68  | 9648       | EGYPT  | 1a8eFYv, Kw4                                        | 14-742-935-3718      | ggle carefully enticing requests. final deposits use bold, bold pinto beans. ironic, idle re\n",
    "60838    | Customer#000060838   | 679127.31  | 3077       | BRAZIL | 64fajTsWHAWJLbQxJk1pNc2RTjWE                        | 12-913-494-9813      | need to boost against the slyly regular account\n",
    "101998   | Customer#000101998   | 637029.56  | 5667       | UNITED KINGDOM | 01o9CILnNtF00YmZj                                | 33-593-665-6378      | ress foxes wake slyly after the bold excuses. ironic platlets are furiously carefully bold theodolites\n",
    "125341   | Customer#000125341   | 633508.08  | 8060       | GERMANY | S29000b6oeU89SuEfJnkWaK                            | 17-582-695-5962      | arefully even depths. blithely even excuses sleep furiously. foxes use except the dependencies. oa\n",
    "25501    | Customer#000025501   | 620269.79  | 7849       | ETHIOPIA | W56MXuoi aYCCZamJL RoD8AJCIGdQ8DIZ                 | 15-874-608-6793      | he pending instructions wake carefully at the pinto beans. regular, final instructions doze the slyly fina\n",
    "115831   | Customer#000115831   | 596423.86  | 8672       | FRANCE  | rFeBEyk dI ne7z5FDmigl0K09wYrXgCgIo               | 16-715-386-3788      | l somas sleep. furiously final deposits wake blithely regular pinto b\n",
    "84223    | Customer#000084223   | 594998.02  | 2339       | UNITED KINGDOM | naVZCs6BaWap rrM2ZN 2qhns6WbaunbA                | 33-442-824-8191      | slyly final deposits hassle regular, pending dependencies. pending escapes wake bl\n",
    "54289    | Customer#000054289   | 586603.39  | 3918       | IRAN    | vXcx0c5U0Ba45jQT , oobkZ                          | 20-834-292-4707      | ely special foxes are quickly finally ironic p\n",
    "399222    | Customer#000039922   | 564878.11  | 11343      | GERMANY | Zg2v4s5OI2GKM4pLDPBUm342zWer                      | 17-147-757-6036      | y final requests. furiously final foxes cajole blithely special platlets. f\n",
    "(10 行记录)"
   ]
  },
  {
   "cell_type": "code",
   "execution_count": null,
   "metadata": {
    "vscode": {
     "languageId": "plaintext"
    }
   },
   "outputs": [],
   "source": [
    "Q11"
   ]
  },
  {
   "cell_type": "code",
   "execution_count": null,
   "metadata": {
    "vscode": {
     "languageId": "plaintext"
    }
   },
   "outputs": [],
   "source": [
    "SELECT PS_PARTKEY, SUM(PS_SUPPLYCOST * PS_AVAILQTY) AS VALUE\n",
    "FROM PARTSUPP, SUPPLIER, NATION\n",
    "WHERE PS_SUPPKEY = S_SUPPKEY AND S_NATIONKEY = N_NATIONKEY\n",
    "AND N_NAME = 'GERMANY'\n",
    "GROUP BY PS_PARTKEY\n",
    "HAVING SUM(PS_SUPPLYCOST * PS_AVAILQTY) > dbo.total_value()\n",
    "ORDER BY VALUE DESC;"
   ]
  },
  {
   "cell_type": "code",
   "execution_count": null,
   "metadata": {
    "vscode": {
     "languageId": "plaintext"
    }
   },
   "outputs": [],
   "source": [
    "ps_partkey |       value\n",
    "-----------+---------------\n",
    "129760     | 17538456.86\n",
    "166726     | 18503353.92\n",
    "191287     | 16474001.97\n",
    "161758     | 16101755.54\n",
    "34452      | 15963844.72\n",
    "139035     | 15907078.34\n",
    "9403       | 15451755.62\n",
    "154358     | 15212937.88\n",
    "38823      | 15064802.86\n",
    "85606      | 15053957.15\n",
    "(10 行记录)"
   ]
  },
  {
   "cell_type": "code",
   "execution_count": null,
   "metadata": {
    "vscode": {
     "languageId": "plaintext"
    }
   },
   "outputs": [],
   "source": [
    "Q12"
   ]
  },
  {
   "cell_type": "code",
   "execution_count": null,
   "metadata": {
    "vscode": {
     "languageId": "plaintext"
    }
   },
   "outputs": [],
   "source": [
    "SELECT L_SHIPMODE,\n",
    "SUM(dbo.line_count(O_ORDERPRIORITY, 'high')) AS HIGH_LINE_COUNT,\n",
    "SUM(dbo.line_count(O_ORDERPRIORITY, 'low')) AS LOW_LINE_COUNT\n",
    "FROM ORDERS, LINEITEM\n",
    "WHERE O_ORDERKEY = L_ORDERKEY AND\n",
    "dbo.q12conditions(L_SHIPMODE, L_COMMITDATE, L_RECEIPTDATE, L_SHIPDATE) = 1\n",
    "GROUP BY L_SHIPMODE\n",
    "ORDER BY L_SHIPMODE;"
   ]
  },
  {
   "cell_type": "code",
   "execution_count": null,
   "metadata": {
    "vscode": {
     "languageId": "plaintext"
    }
   },
   "outputs": [],
   "source": [
    "l_shipmode | high_line_count | low_line_count\n",
    "-----------+----------------+---------------\n",
    "MAIL       | 10746         | 10746\n",
    "SHIP       | 10864         | 10864\n",
    "(2 行记录)"
   ]
  },
  {
   "cell_type": "code",
   "execution_count": null,
   "metadata": {
    "vscode": {
     "languageId": "plaintext"
    }
   },
   "outputs": [],
   "source": [
    "Q14"
   ]
  },
  {
   "cell_type": "code",
   "execution_count": null,
   "metadata": {
    "vscode": {
     "languageId": "plaintext"
    }
   },
   "outputs": [],
   "source": [
    "SELECT 100.00 *\n",
    "SUM(dbo.promo_disc(P_TYPE, L_EXTENDEDPRICE, L_DISCOUNT))\n",
    "/ SUM(dbo.discount_price(L_EXTENDEDPRICE, L_DISCOUNT))\n",
    "AS PROMO_REVENUE\n",
    "FROM LINEITEM, PART\n",
    "WHERE L_PARTKEY = P_PARTKEY AND L_SHIPDATE >= '1995-09-01'\n",
    "AND L_SHIPDATE < dateadd(mm, 1, '1995-09-01');"
   ]
  },
  {
   "cell_type": "code",
   "execution_count": null,
   "metadata": {
    "vscode": {
     "languageId": "plaintext"
    }
   },
   "outputs": [],
   "source": [
    "PROMO_REVENUE\n",
    "-------------------+\n",
    "16.380778\n",
    "(1 行记录)"
   ]
  },
  {
   "cell_type": "code",
   "execution_count": null,
   "metadata": {
    "vscode": {
     "languageId": "plaintext"
    }
   },
   "outputs": [],
   "source": [
    "Q19"
   ]
  },
  {
   "cell_type": "code",
   "execution_count": null,
   "metadata": {
    "vscode": {
     "languageId": "plaintext"
    }
   },
   "outputs": [],
   "source": [
    "SELECT SUM(dbo.discount_price(L_EXTENDEDPRICE, L_DISCOUNT)) AS REVENUE\n",
    "FROM LINEITEM join PART on L_PARTKEY = P_PARTKEY\n",
    "WHERE dbo.q19conditions(P_CONTAINER, L_QUANTITY, P_SIZE,\n",
    "L_SHIPMODE, L_SHIPINSTRUCT, P_BRAND) = 1;"
   ]
  },
  {
   "cell_type": "code",
   "execution_count": null,
   "metadata": {
    "vscode": {
     "languageId": "plaintext"
    }
   },
   "outputs": [],
   "source": [
    "REVENUE\n",
    "-------------------+\n",
    "3083643.03\n",
    "(1 行记录)"
   ]
  },
  {
   "cell_type": "code",
   "execution_count": null,
   "metadata": {
    "vscode": {
     "languageId": "plaintext"
    }
   },
   "outputs": [],
   "source": [
    "Q22"
   ]
  },
  {
   "cell_type": "code",
   "execution_count": null,
   "metadata": {
    "vscode": {
     "languageId": "plaintext"
    }
   },
   "outputs": [],
   "source": [
    "SELECT CNTRYCODE,\n",
    "COUNT(*) AS NUMCUST, SUM(C_ACCTBAL) AS TOTACCTBAL\n",
    "FROM (\n",
    "    SELECT SUBSTRING(C_PHONE, 1, 2) AS CNTRYCODE, C_ACCTBAL\n",
    "    FROM CUSTOMER WHERE SUBSTRING(C_PHONE, 1, 2)\n",
    "    IN ('13', '31', '23', '29', '30', '18', '17')\n",
    "    AND C_ACCTBAL > dbo.avg_actbal()\n",
    "    AND NOT EXISTS (SELECT * FROM ORDERS WHERE O_CUSTKEY = C_CUSTKEY)\n",
    ") AS CUSTSALE\n",
    "GROUP BY CNTRYCODE\n",
    "ORDER BY CNTRYCODE;"
   ]
  },
  {
   "cell_type": "code",
   "execution_count": null,
   "metadata": {
    "vscode": {
     "languageId": "plaintext"
    }
   },
   "outputs": [],
   "source": [
    "entrycode | numcust |  totacctbal\n",
    "---------+---------+------------\n",
    "    13   |   888   | 6737713.99\n",
    "    17   |   861   | 6400573.72\n",
    "    18   |   964   | 7236687.40\n",
    "    23   |   892   | 6701457.95\n",
    "    29   |   948   | 7158866.63\n",
    "    30   |   909   | 6808436.13\n",
    "    31   |   922   | 6806670.18\n",
    "(7 行记录)"
   ]
  }
 ],
 "metadata": {
  "language_info": {
   "name": "python"
  }
 },
 "nbformat": 4,
 "nbformat_minor": 2
}
