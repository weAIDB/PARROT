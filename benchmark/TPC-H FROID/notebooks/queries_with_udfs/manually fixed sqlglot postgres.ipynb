{
 "cells": [
  {
   "cell_type": "code",
   "execution_count": null,
   "metadata": {
    "vscode": {
     "languageId": "plaintext"
    }
   },
   "outputs": [],
   "source": [
    "Q1"
   ]
  },
  {
   "cell_type": "code",
   "execution_count": null,
   "metadata": {
    "vscode": {
     "languageId": "plaintext"
    }
   },
   "outputs": [],
   "source": [
    "SELECT \n",
    "    L_RETURNFLAG, \n",
    "    L_LINESTATUS, \n",
    "    SUM(L_QUANTITY) AS SUM_QTY, \n",
    "    SUM(L_EXTENDEDPRICE) AS SUM_BASE_PRICE, \n",
    "    SUM(DISCOUNT_PRICE(L_EXTENDEDPRICE, L_DISCOUNT)) AS SUM_DISC_PRICE, \n",
    "    SUM(DISCOUNT_TAXPRICE(L_EXTENDEDPRICE, L_DISCOUNT, L_TAX)) AS SUM_CHARGE, \n",
    "    AVG(L_QUANTITY) AS AVG_QTY, \n",
    "    AVG(L_EXTENDEDPRICE) AS AVG_PRICE, \n",
    "    AVG(L_DISCOUNT) AS AVG_DISC, \n",
    "    COUNT(*) AS COUNT_ORDER\n",
    "FROM \n",
    "    LINEITEM\n",
    "WHERE \n",
    "    ISSHIPPEDBEFORE(L_SHIPDATE, -90, '1998-12-01') = 1\n",
    "GROUP BY \n",
    "    L_RETURNFLAG, \n",
    "    L_LINESTATUS\n",
    "ORDER BY \n",
    "    L_RETURNFLAG NULLS FIRST, \n",
    "    L_LINESTATUS NULLS FIRST;"
   ]
  },
  {
   "cell_type": "code",
   "execution_count": null,
   "metadata": {
    "vscode": {
     "languageId": "plaintext"
    }
   },
   "outputs": [],
   "source": [
    " l_returnflag | l_linestatus |   sum_qty   | sum_base_price  | sum_disc_price  |    sum_charge     |       avg_qty       |     avg_price      |        avg_disc        | count_order\n",
    "--------------+--------------+-------------+-----------------+-----------------+-------------------+---------------------+--------------------+------------------------+-------------\n",
    " A            | F            | 37734107.00 |  56586554400.73 |  53758257382.21 |  55909065479.9960 | 25.5220058532573370 | 38273.129734621672 | 0.04998529583839761162 |     1478493\n",
    " N            | F            |   991417.00 |   1487504710.38 |   1413082173.74 |   1469649229.0811 | 25.5164719205229835 | 38284.467760848304 | 0.05009342667421629691 |       38854\n",
    " N            | O            | 74476040.00 | 111701729697.74 | 106118230774.99 | 110367044358.6731 | 25.5022267695849915 | 38249.117988908270 | 0.04999658605370408037 |     2920374\n",
    " R            | F            | 37719753.00 |  56568041380.90 |  53741292921.05 |  55889619365.8084 | 25.5057936126907707 | 38250.854626099657 | 0.05000940583012705647 |     1478870\n",
    "(4 行记录)"
   ]
  },
  {
   "cell_type": "code",
   "execution_count": null,
   "metadata": {
    "vscode": {
     "languageId": "plaintext"
    }
   },
   "outputs": [],
   "source": [
    "Q3"
   ]
  },
  {
   "cell_type": "code",
   "execution_count": null,
   "metadata": {
    "vscode": {
     "languageId": "plaintext"
    }
   },
   "outputs": [],
   "source": [
    "SELECT \n",
    "    L_ORDERKEY, \n",
    "    SUM(DISCOUNT_PRICE(L_EXTENDEDPRICE, L_DISCOUNT)) AS REVENUE, \n",
    "    O_ORDERDATE, \n",
    "    O_SHIPPRIORITY\n",
    "FROM \n",
    "    CUSTOMER, \n",
    "    ORDERS, \n",
    "    LINEITEM\n",
    "WHERE \n",
    "    C_CUSTKEY = O_CUSTKEY \n",
    "    AND L_ORDERKEY = O_ORDERKEY \n",
    "    AND Q3CONDITIONS(C_MKTSEGMENT, O_ORDERDATE, L_SHIPDATE) = 1\n",
    "GROUP BY \n",
    "    L_ORDERKEY, \n",
    "    O_ORDERDATE, \n",
    "    O_SHIPPRIORITY\n",
    "ORDER BY \n",
    "    REVENUE DESC NULLS LAST, \n",
    "    O_ORDERDATE NULLS FIRST\n",
    "LIMIT \n",
    "    10;"
   ]
  },
  {
   "cell_type": "code",
   "execution_count": null,
   "metadata": {
    "vscode": {
     "languageId": "plaintext"
    }
   },
   "outputs": [],
   "source": [
    " l_orderkey |  revenue  | o_orderdate | o_shippriority\n",
    "------------+-----------+-------------+----------------\n",
    "    2456423 | 406181.00 | 1995-03-05  |              0\n",
    "    3459808 | 405838.70 | 1995-03-04  |              0\n",
    "     492164 | 390324.06 | 1995-02-19  |              0\n",
    "    1188320 | 384537.93 | 1995-03-09  |              0\n",
    "    2435712 | 378673.06 | 1995-02-26  |              0\n",
    "    4878020 | 378376.79 | 1995-03-12  |              0\n",
    "    5521732 | 375153.93 | 1995-03-13  |              0\n",
    "    2628192 | 373133.31 | 1995-02-22  |              0\n",
    "     993600 | 371407.45 | 1995-03-05  |              0\n",
    "    2300070 | 367371.14 | 1995-03-13  |              0\n",
    "(10 行记录)"
   ]
  },
  {
   "cell_type": "code",
   "execution_count": null,
   "metadata": {
    "vscode": {
     "languageId": "plaintext"
    }
   },
   "outputs": [],
   "source": [
    "Q5"
   ]
  },
  {
   "cell_type": "code",
   "execution_count": null,
   "metadata": {
    "vscode": {
     "languageId": "plaintext"
    }
   },
   "outputs": [],
   "source": [
    "SELECT \n",
    "    N_NAME, \n",
    "    SUM(DISCOUNT_PRICE(L_EXTENDEDPRICE, L_DISCOUNT)) AS REVENUE\n",
    "FROM \n",
    "    CUSTOMER, \n",
    "    ORDERS, \n",
    "    LINEITEM, \n",
    "    SUPPLIER, \n",
    "    NATION, \n",
    "    REGION\n",
    "WHERE \n",
    "    C_CUSTKEY = O_CUSTKEY \n",
    "    AND L_ORDERKEY = O_ORDERKEY \n",
    "    AND L_SUPPKEY = S_SUPPKEY \n",
    "    AND C_NATIONKEY = S_NATIONKEY \n",
    "    AND S_NATIONKEY = N_NATIONKEY \n",
    "    AND N_REGIONKEY = R_REGIONKEY \n",
    "    AND Q5CONDITIONS(R_NAME, O_ORDERDATE) = 1\n",
    "GROUP BY \n",
    "    N_NAME\n",
    "ORDER BY \n",
    "    REVENUE DESC NULLS LAST;"
   ]
  },
  {
   "cell_type": "code",
   "execution_count": null,
   "metadata": {
    "vscode": {
     "languageId": "plaintext"
    }
   },
   "outputs": [],
   "source": [
    "          n_name           |   revenue\n",
    "---------------------------+-------------\n",
    " INDONESIA                 | 55502041.37\n",
    " VIETNAM                   | 55295087.24\n",
    " CHINA                     | 53724494.43\n",
    " INDIA                     | 52035512.19\n",
    " JAPAN                     | 45410175.92\n",
    "(5 行记录)"
   ]
  },
  {
   "cell_type": "code",
   "execution_count": null,
   "metadata": {
    "vscode": {
     "languageId": "plaintext"
    }
   },
   "outputs": [],
   "source": [
    "Q6"
   ]
  },
  {
   "cell_type": "code",
   "execution_count": null,
   "metadata": {
    "vscode": {
     "languageId": "plaintext"
    }
   },
   "outputs": [],
   "source": [
    "SELECT \n",
    "    SUM(L_EXTENDEDPRICE * L_DISCOUNT) AS REVENUE\n",
    "FROM \n",
    "    LINEITEM\n",
    "WHERE \n",
    "    Q6CONDITIONS(\n",
    "        L_SHIPDATE::DATE, \n",
    "        L_DISCOUNT::DECIMAL(12,2), \n",
    "        L_QUANTITY::INT\n",
    "    ) = 1;"
   ]
  },
  {
   "cell_type": "code",
   "execution_count": null,
   "metadata": {
    "vscode": {
     "languageId": "plaintext"
    }
   },
   "outputs": [],
   "source": [
    "    revenue\n",
    "----------------\n",
    " 123141078.2283\n",
    "(1 行记录)"
   ]
  },
  {
   "cell_type": "code",
   "execution_count": null,
   "metadata": {
    "vscode": {
     "languageId": "plaintext"
    }
   },
   "outputs": [],
   "source": [
    "Q7"
   ]
  },
  {
   "cell_type": "code",
   "execution_count": null,
   "metadata": {
    "vscode": {
     "languageId": "plaintext"
    }
   },
   "outputs": [],
   "source": [
    "SELECT \n",
    "    SUPP_NATION, \n",
    "    CUST_NATION, \n",
    "    L_YEAR, \n",
    "    SUM(VOLUME) AS REVENUE\n",
    "FROM \n",
    "    (\n",
    "        SELECT \n",
    "            N1.N_NAME AS SUPP_NATION, \n",
    "            N2.N_NAME AS CUST_NATION, \n",
    "            TO_CHAR(CAST(L_SHIPDATE AS TIMESTAMP), 'YY') AS L_YEAR, \n",
    "            L_EXTENDEDPRICE * (1 - L_DISCOUNT) AS VOLUME\n",
    "        FROM \n",
    "            SUPPLIER, \n",
    "            LINEITEM, \n",
    "            ORDERS, \n",
    "            CUSTOMER, \n",
    "            NATION AS N1, \n",
    "            NATION AS N2\n",
    "        WHERE \n",
    "            S_SUPPKEY = L_SUPPKEY \n",
    "            AND O_ORDERKEY = L_ORDERKEY \n",
    "            AND C_CUSTKEY = O_CUSTKEY \n",
    "            AND S_NATIONKEY = N1.N_NATIONKEY \n",
    "            AND C_NATIONKEY = N2.N_NATIONKEY \n",
    "            AND Q7CONDITIONS(N1.N_NAME, N2.N_NAME, L_SHIPDATE) = 1\n",
    "    ) AS SHIPPING\n",
    "GROUP BY \n",
    "    SUPP_NATION, \n",
    "    CUST_NATION, \n",
    "    L_YEAR\n",
    "ORDER BY \n",
    "    SUPP_NATION NULLS FIRST, \n",
    "    CUST_NATION NULLS FIRST, \n",
    "    L_YEAR NULLS FIRST;"
   ]
  },
  {
   "cell_type": "code",
   "execution_count": null,
   "metadata": {
    "vscode": {
     "languageId": "plaintext"
    }
   },
   "outputs": [],
   "source": [
    "        supp_nation        |        cust_nation        | l_year |    revenue\n",
    "---------------------------+---------------------------+--------+---------------\n",
    " FRANCE                    | GERMANY                   | 95     | 54639732.7336\n",
    " FRANCE                    | GERMANY                   | 96     | 54633083.3076\n",
    " GERMANY                   | FRANCE                    | 95     | 52531746.6697\n",
    " GERMANY                   | FRANCE                    | 96     | 52520549.0224\n",
    "(4 行记录)"
   ]
  },
  {
   "cell_type": "code",
   "execution_count": null,
   "metadata": {
    "vscode": {
     "languageId": "plaintext"
    }
   },
   "outputs": [],
   "source": [
    "Q9"
   ]
  },
  {
   "cell_type": "code",
   "execution_count": null,
   "metadata": {
    "vscode": {
     "languageId": "plaintext"
    }
   },
   "outputs": [],
   "source": [
    "SELECT \n",
    "    NATION, \n",
    "    O_YEAR, \n",
    "    SUM(AMOUNT) AS SUM_PROFIT\n",
    "FROM \n",
    "    (\n",
    "        SELECT \n",
    "            N_NAME AS NATION, \n",
    "            TO_CHAR(CAST(O_ORDERDATE AS TIMESTAMP), 'YY') AS O_YEAR, \n",
    "            PROFIT_AMOUNT(L_EXTENDEDPRICE, L_DISCOUNT, PS_SUPPLYCOST, L_QUANTITY::INT) AS AMOUNT\n",
    "        FROM \n",
    "            PART, \n",
    "            SUPPLIER, \n",
    "            LINEITEM, \n",
    "            PARTSUPP, \n",
    "            ORDERS, \n",
    "            NATION\n",
    "        WHERE \n",
    "            S_SUPPKEY = L_SUPPKEY \n",
    "            AND PS_SUPPKEY = L_SUPPKEY \n",
    "            AND PS_PARTKEY = L_PARTKEY \n",
    "            AND P_PARTKEY = L_PARTKEY \n",
    "            AND O_ORDERKEY = L_ORDERKEY \n",
    "            AND S_NATIONKEY = N_NATIONKEY \n",
    "            AND P_NAME LIKE '%green%'\n",
    "    ) AS PROFIT\n",
    "GROUP BY \n",
    "    NATION, \n",
    "    O_YEAR\n",
    "ORDER BY \n",
    "    NATION NULLS FIRST, \n",
    "    O_YEAR DESC NULLS LAST\n",
    "LIMIT 10;"
   ]
  },
  {
   "cell_type": "code",
   "execution_count": null,
   "metadata": {
    "vscode": {
     "languageId": "plaintext"
    }
   },
   "outputs": [],
   "source": [
    "          nation           | o_year |  sum_profit\n",
    "---------------------------+--------+---------------\n",
    " ALGERIA                   | 98     | 27136900.1803\n",
    " ALGERIA                   | 97     | 48611833.4962\n",
    " ALGERIA                   | 96     | 48285482.6782\n",
    " ALGERIA                   | 95     | 44402273.5999\n",
    " ALGERIA                   | 94     | 48694008.0668\n",
    " ALGERIA                   | 93     | 46044207.7838\n",
    " ALGERIA                   | 92     | 45636849.4881\n",
    " ARGENTINA                 | 98     | 28341663.7848\n",
    " ARGENTINA                 | 97     | 47143964.1176\n",
    " ARGENTINA                 | 96     | 45255278.6021\n",
    "(10 行记录)"
   ]
  },
  {
   "cell_type": "code",
   "execution_count": null,
   "metadata": {
    "vscode": {
     "languageId": "plaintext"
    }
   },
   "outputs": [],
   "source": [
    "Q10"
   ]
  },
  {
   "cell_type": "code",
   "execution_count": null,
   "metadata": {
    "vscode": {
     "languageId": "plaintext"
    }
   },
   "outputs": [],
   "source": [
    "SELECT \n",
    "    C_CUSTKEY, \n",
    "    C_NAME, \n",
    "    SUM(DISCOUNT_PRICE(L_EXTENDEDPRICE, L_DISCOUNT)) AS REVENUE, \n",
    "    C_ACCTBAL, \n",
    "    N_NAME, \n",
    "    C_ADDRESS, \n",
    "    C_PHONE, \n",
    "    C_COMMENT\n",
    "FROM \n",
    "    CUSTOMER, \n",
    "    ORDERS, \n",
    "    LINEITEM, \n",
    "    NATION\n",
    "WHERE \n",
    "    C_CUSTKEY = O_CUSTKEY \n",
    "    AND L_ORDERKEY = O_ORDERKEY \n",
    "    AND Q10CONDITIONS(O_ORDERDATE, L_RETURNFLAG) = 1 \n",
    "    AND C_NATIONKEY = N_NATIONKEY\n",
    "GROUP BY \n",
    "    C_CUSTKEY, \n",
    "    C_NAME, \n",
    "    C_ACCTBAL, \n",
    "    C_PHONE, \n",
    "    N_NAME, \n",
    "    C_ADDRESS, \n",
    "    C_COMMENT\n",
    "ORDER BY \n",
    "    REVENUE DESC NULLS LAST\n",
    "LIMIT \n",
    "    10;"
   ]
  },
  {
   "cell_type": "code",
   "execution_count": null,
   "metadata": {
    "vscode": {
     "languageId": "plaintext"
    }
   },
   "outputs": [],
   "source": [
    " c_custkey |       c_name       |  revenue  | c_acctbal |          n_name           |                c_address                 |     c_phone     |                                                  c_comment                                   \n",
    "-----------+--------------------+-----------+-----------+---------------------------+------------------------------------------+-----------------+-------------------------------------------------------------------------------------------------------------\n",
    "     57040 | Customer#000057040 | 734235.24 |    632.87 | JAPAN                     | Eioyzjf4pp                               | 22-895-641-3466 | sits. slyly regular requests sleep alongside of the regular inst\n",
    "    143347 | Customer#000143347 | 721002.68 |   2557.47 | EGYPT                     | 1aReFYv,Kw4                              | 14-742-935-3718 | ggle carefully enticing requests. final deposits use bold, bold pinto beans. ironic, idle re\n",
    "     60838 | Customer#000060838 | 679127.31 |   2454.77 | BRAZIL                    | 64EaJ5vMAHWJlBOxJklpNc2RJiWE             | 12-913-494-9813 |  need to boost against the slyly regular account\n",
    "    101998 | Customer#000101998 | 637029.57 |   3790.89 | UNITED KINGDOM            | 01c9CILnNtfOQYmZj                        | 33-593-865-6378 | ress foxes wake slyly after the bold excuses. ironic platelets are furiously carefully bold theodolites\n",
    "    125341 | Customer#000125341 | 633508.08 |   4983.51 | GERMANY                   | S29ODD6bceU8QSuuEJznkNaK                 | 17-582-695-5962 | arefully even depths. blithely even excuses sleep furiously. foxes use except the dependencies. ca\n",
    "     25501 | Customer#000025501 | 620269.79 |   7725.04 | ETHIOPIA                  |   W556MXuoiaYCCZamJI,Rn0B4ACUGdkQ8DZ     | 15-874-808-6793 | he pending instructions wake carefully at the pinto beans. regular, final instructions along the slyly fina\n",
    "    115831 | Customer#000115831 | 596423.88 |   5098.10 | FRANCE                    | rFeBbEEyk dl ne7zV5fDrmiq1oK09wV7pxqCgIc | 16-715-386-3788 | l somas sleep. furiously final deposits wake blithely regular pinto b\n",
    "     84223 | Customer#000084223 | 594998.03 |    528.65 | UNITED KINGDOM            | nAVZCs6BaWap rrM27N 2qBnzc5WBauxbA       | 33-442-824-8191 |  slyly final deposits haggle regular, pending dependencies. pending escapades wake\n",
    "     54289 | Customer#000054289 | 585603.38 |   5583.02 | IRAN                      | vXCxoCsU0Bad5JQI ,oobkZ                  | 20-834-292-4707 | ely special foxes are quickly finally ironic p\n",
    "     39922 | Customer#000039922 | 584878.12 |   7321.11 | GERMANY                   | Zgy4s50l2GKN4pLDPBU8m342gIw6R            | 17-147-757-8036 | y final requests. furiously final foxes cajole blithely special platelets. f\n",
    "(10 行记录)"
   ]
  },
  {
   "cell_type": "code",
   "execution_count": null,
   "metadata": {
    "vscode": {
     "languageId": "plaintext"
    }
   },
   "outputs": [],
   "source": [
    "Q11"
   ]
  },
  {
   "cell_type": "code",
   "execution_count": null,
   "metadata": {
    "vscode": {
     "languageId": "plaintext"
    }
   },
   "outputs": [],
   "source": [
    "SELECT \n",
    "    PS_PARTKEY, \n",
    "    SUM(PS_SUPPLYCOST * PS_AVAILQTY) AS VALUE\n",
    "FROM \n",
    "    PARTSUPP, \n",
    "    SUPPLIER, \n",
    "    NATION\n",
    "WHERE \n",
    "    PS_SUPPKEY = S_SUPPKEY \n",
    "    AND S_NATIONKEY = N_NATIONKEY \n",
    "    AND N_NAME = 'GERMANY'\n",
    "GROUP BY \n",
    "    PS_PARTKEY\n",
    "HAVING \n",
    "    SUM(PS_SUPPLYCOST * PS_AVAILQTY) > TOTAL_VALUE()\n",
    "ORDER BY \n",
    "    VALUE DESC NULLS LAST;"
   ]
  },
  {
   "cell_type": "code",
   "execution_count": null,
   "metadata": {
    "vscode": {
     "languageId": "plaintext"
    }
   },
   "outputs": [],
   "source": [
    " ps_partkey |    value\n",
    "------------+-------------\n",
    "     129760 | 17538456.86\n",
    "     166726 | 16503353.92\n",
    "     191287 | 16474801.97\n",
    "     161758 | 16101755.54\n",
    "      34452 | 15983844.72\n",
    "     139035 | 15907078.34\n",
    "       9403 | 15451755.62\n",
    "     154358 | 15212937.88\n",
    "      38823 | 15064802.86\n",
    "      85606 | 15053957.15"
   ]
  },
  {
   "cell_type": "code",
   "execution_count": null,
   "metadata": {
    "vscode": {
     "languageId": "plaintext"
    }
   },
   "outputs": [],
   "source": [
    "Q12"
   ]
  },
  {
   "cell_type": "code",
   "execution_count": null,
   "metadata": {
    "vscode": {
     "languageId": "plaintext"
    }
   },
   "outputs": [],
   "source": [
    "SELECT \n",
    "    L_SHIPMODE, \n",
    "    SUM(LINE_COUNT(O_ORDERPRIORITY, 'high')) AS HIGH_LINE_COUNT, \n",
    "    SUM(LINE_COUNT(O_ORDERPRIORITY, 'low')) AS LOW_LINE_COUNT\n",
    "FROM \n",
    "    ORDERS, \n",
    "    LINEITEM\n",
    "WHERE \n",
    "    O_ORDERKEY = L_ORDERKEY \n",
    "    AND Q12CONDITIONS(L_SHIPMODE, L_COMMITDATE, L_RECEIPTDATE, L_SHIPDATE) = 1\n",
    "GROUP BY \n",
    "    L_SHIPMODE\n",
    "ORDER BY \n",
    "    L_SHIPMODE NULLS FIRST;"
   ]
  },
  {
   "cell_type": "code",
   "execution_count": null,
   "metadata": {
    "vscode": {
     "languageId": "plaintext"
    }
   },
   "outputs": [],
   "source": [
    " l_shipmode | high_line_count | low_line_count\n",
    "------------+-----------------+----------------\n",
    " MAIL       |           10746 |              0\n",
    " SHIP       |           10864 |              0"
   ]
  },
  {
   "cell_type": "code",
   "execution_count": null,
   "metadata": {
    "vscode": {
     "languageId": "plaintext"
    }
   },
   "outputs": [],
   "source": [
    "Q14"
   ]
  },
  {
   "cell_type": "code",
   "execution_count": null,
   "metadata": {
    "vscode": {
     "languageId": "plaintext"
    }
   },
   "outputs": [],
   "source": [
    "SELECT \n",
    "    100.00 * SUM(PROMO_DISC(P_TYPE, L_EXTENDEDPRICE, L_DISCOUNT)) / SUM(DISCOUNT_PRICE(L_EXTENDEDPRICE, L_DISCOUNT)) AS PROMO_REVENUE\n",
    "FROM \n",
    "    LINEITEM, \n",
    "    PART\n",
    "WHERE \n",
    "    L_PARTKEY = P_PARTKEY \n",
    "    AND L_SHIPDATE >= DATE '1995-09-01' \n",
    "    AND L_SHIPDATE < DATE '1995-09-01' + INTERVAL '1 MONTH';"
   ]
  },
  {
   "cell_type": "code",
   "execution_count": null,
   "metadata": {
    "vscode": {
     "languageId": "plaintext"
    }
   },
   "outputs": [],
   "source": [
    "    promo_revenue\n",
    "---------------------\n",
    " 16.3807786354670190\n",
    "(1 行记录)"
   ]
  },
  {
   "cell_type": "code",
   "execution_count": null,
   "metadata": {
    "vscode": {
     "languageId": "plaintext"
    }
   },
   "outputs": [],
   "source": [
    "Q19"
   ]
  },
  {
   "cell_type": "code",
   "execution_count": null,
   "metadata": {
    "vscode": {
     "languageId": "plaintext"
    }
   },
   "outputs": [],
   "source": [
    "SELECT \n",
    "    SUM(DISCOUNT_PRICE(L_EXTENDEDPRICE, L_DISCOUNT)) AS REVENUE\n",
    "FROM \n",
    "    LINEITEM\n",
    "JOIN \n",
    "    PART \n",
    "ON \n",
    "    L_PARTKEY = P_PARTKEY\n",
    "WHERE \n",
    "    Q19CONDITIONS(P_CONTAINER, L_QUANTITY::INT, P_SIZE, L_SHIPMODE, L_SHIPINSTRUCT, P_BRAND) = 1;"
   ]
  },
  {
   "cell_type": "code",
   "execution_count": null,
   "metadata": {
    "vscode": {
     "languageId": "plaintext"
    }
   },
   "outputs": [],
   "source": [
    "  revenue\n",
    "------------\n",
    " 3083843.03\n",
    "(1 行记录)"
   ]
  },
  {
   "cell_type": "code",
   "execution_count": null,
   "metadata": {
    "vscode": {
     "languageId": "plaintext"
    }
   },
   "outputs": [],
   "source": [
    "Q22"
   ]
  },
  {
   "cell_type": "code",
   "execution_count": null,
   "metadata": {
    "vscode": {
     "languageId": "plaintext"
    }
   },
   "outputs": [],
   "source": [
    "SELECT \n",
    "    CNTRYCODE, \n",
    "    COUNT(*) AS NUMCUST, \n",
    "    SUM(C_ACCTBAL) AS TOTACCTBAL\n",
    "FROM \n",
    "    (\n",
    "        SELECT \n",
    "            SUBSTRING(C_PHONE FROM 1 FOR 2) AS CNTRYCODE, \n",
    "            C_ACCTBAL\n",
    "        FROM \n",
    "            CUSTOMER\n",
    "        WHERE \n",
    "            SUBSTRING(C_PHONE FROM 1 FOR 2) IN ('13', '31', '23', '29', '30', '18', '17') \n",
    "            AND C_ACCTBAL > AVG_ACTBAL() \n",
    "            AND NOT EXISTS (\n",
    "                SELECT \n",
    "                    * \n",
    "                FROM \n",
    "                    ORDERS \n",
    "                WHERE \n",
    "                    O_CUSTKEY = C_CUSTKEY\n",
    "            )\n",
    "    ) AS CUSTSALE\n",
    "GROUP BY \n",
    "    CNTRYCODE\n",
    "ORDER BY \n",
    "    CNTRYCODE NULLS FIRST;"
   ]
  },
  {
   "cell_type": "code",
   "execution_count": null,
   "metadata": {
    "vscode": {
     "languageId": "plaintext"
    }
   },
   "outputs": [],
   "source": [
    " cntrycode | numcust | totacctbal\n",
    "-----------+---------+------------\n",
    " 13        |     888 | 6737713.99\n",
    " 17        |     861 | 6460573.72\n",
    " 18        |     964 | 7236687.40\n",
    " 23        |     892 | 6701457.95\n",
    " 29        |     948 | 7158866.63\n",
    " 30        |     909 | 6808436.13\n",
    " 31        |     922 | 6806670.18\n",
    "(7 行记录)"
   ]
  }
 ],
 "metadata": {
  "language_info": {
   "name": "python"
  }
 },
 "nbformat": 4,
 "nbformat_minor": 2
}
